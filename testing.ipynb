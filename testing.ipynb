{
 "cells": [
  {
   "cell_type": "code",
   "execution_count": 20,
   "id": "3085cabb",
   "metadata": {},
   "outputs": [],
   "source": [
    "from USTs import USTs\n",
    "import datetime\n",
    "from datetime import timedelta\n",
    "import QuantLib as ql\n",
    "import numpy as np\n",
    "from typing import List\n",
    "import calendar\n",
    "from dateutil.relativedelta import relativedelta"
   ]
  },
  {
   "cell_type": "code",
   "execution_count": 3,
   "id": "cb457929",
   "metadata": {},
   "outputs": [
    {
     "data": {
      "text/plain": [
       "0.8"
      ]
     },
     "execution_count": 3,
     "metadata": {},
     "output_type": "execute_result"
    }
   ],
   "source": [
    "# Bill pricing\n",
    "issue_date = datetime.date(2004, 1, 22)\n",
    "maturity_date = datetime.date(2004, 2, 19)\n",
    "\n",
    "bill_1 = USTs(auction_data= None, price_data=None).get_bill_discount_rate(price=99.937778,\n",
    "                                                                          issue_date=issue_date,\n",
    "                                                                          maturity_date=maturity_date)\n",
    "bill_1"
   ]
  },
  {
   "cell_type": "code",
   "execution_count": 4,
   "id": "dd307934",
   "metadata": {},
   "outputs": [
    {
     "data": {
      "text/plain": [
       "0.811"
      ]
     },
     "execution_count": 4,
     "metadata": {},
     "output_type": "execute_result"
    }
   ],
   "source": [
    "issue_date = datetime.date(2004, 1, 22)\n",
    "maturity_date = datetime.date(2004, 2, 19)\n",
    "bill_2 = USTs(auction_data= None, price_data=None).get_bill_BEYTM(price=99.937778,\n",
    "                                                                          issue_date=issue_date,\n",
    "                                                                          maturity_date=maturity_date)\n",
    "bill_2"
   ]
  },
  {
   "cell_type": "code",
   "execution_count": 5,
   "id": "dfa56e13",
   "metadata": {},
   "outputs": [
    {
     "data": {
      "text/plain": [
       "8.237"
      ]
     },
     "execution_count": 5,
     "metadata": {},
     "output_type": "execute_result"
    }
   ],
   "source": [
    "issue_date = datetime.date(1990, 6, 7)\n",
    "maturity_date = datetime.date(1991, 6, 6)\n",
    "bill_2 = USTs(auction_data= None, price_data=None).get_bill_BEYTM(price=92.265000,\n",
    "                                                                          issue_date=issue_date,\n",
    "                                                                          maturity_date=maturity_date)\n",
    "bill_2"
   ]
  },
  {
   "cell_type": "code",
   "execution_count": null,
   "id": "81ff9672",
   "metadata": {},
   "outputs": [],
   "source": [
    "issue_date = datetime.date(2023, 10, 2)\n",
    "maturity_date = datetime.date(2025, 9, 30)\n",
    "\n",
    "def create_date_set(issue_date, maturity_date) -> List[datetime.date]: # type: ignore\n",
    "    tenor = maturity_date.year - issue_date.year\n",
    "    coupons = tenor * 2\n",
    "    today = datetime.datetime.now().date()\n",
    "    payment_set = []\n",
    "    if tenor in [3, 10, 20, 30]:\n",
    "        DAY = 15\n",
    "        first_payment = issue_date + relativedelta(months=6)\n",
    "        date = datetime.date(first_payment.year, first_payment.month, DAY)\n",
    "        payment_set.append(date)\n",
    "        while len(payment_set) < coupons - 1:\n",
    "            date = date + relativedelta(months=6)\n",
    "            date = datetime.date(date.year, date.month, DAY)\n",
    "            while date.weekday() in [5, 6]:\n",
    "                date = date + timedelta(days=1)\n",
    "            payment_set.append(date)\n",
    "    \n",
    "    if tenor in [2, 5, 7]:\n",
    "        month = min(issue_date.month, maturity_date.month)\n",
    "        _, day = calendar.monthrange(issue_date.year, month)\n",
    "        date = datetime.date(issue_date.year, month, day) + relativedelta(months=6)\n",
    "        payment_set.append(date)\n",
    "        while len(payment_set) < coupons - 1:\n",
    "            date = date + relativedelta(months=6)\n",
    "            while date.weekday() in [5, 6]:\n",
    "                date = date + timedelta(days=1)\n",
    "            payment_set.append(date)\n",
    "\n",
    "    payment_set.append(maturity_date)\n",
    "    if len(payment_set) == coupons:\n",
    "        print(f\"{coupons} coupons dates in set, matching the expected number.\")\n",
    "        return payment_set"
   ]
  },
  {
   "cell_type": "code",
   "execution_count": 60,
   "id": "a7050a5c",
   "metadata": {},
   "outputs": [
    {
     "name": "stdout",
     "output_type": "stream",
     "text": [
      "4 coupons dates in set, matching the expected number.\n"
     ]
    },
    {
     "data": {
      "text/plain": [
       "[datetime.date(2024, 3, 30),\n",
       " datetime.date(2024, 9, 30),\n",
       " datetime.date(2025, 3, 31),\n",
       " datetime.date(2025, 9, 30)]"
      ]
     },
     "execution_count": 60,
     "metadata": {},
     "output_type": "execute_result"
    }
   ],
   "source": [
    "efg = create_date_set(issue_date, maturity_date)\n",
    "efg"
   ]
  }
 ],
 "metadata": {
  "kernelspec": {
   "display_name": "Python 3",
   "language": "python",
   "name": "python3"
  },
  "language_info": {
   "codemirror_mode": {
    "name": "ipython",
    "version": 3
   },
   "file_extension": ".py",
   "mimetype": "text/x-python",
   "name": "python",
   "nbconvert_exporter": "python",
   "pygments_lexer": "ipython3",
   "version": "3.12.1"
  }
 },
 "nbformat": 4,
 "nbformat_minor": 5
}
