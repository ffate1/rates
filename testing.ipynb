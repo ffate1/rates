{
 "cells": [
  {
   "cell_type": "code",
   "execution_count": 2,
   "id": "3085cabb",
   "metadata": {},
   "outputs": [],
   "source": [
    "from USTs import USTs\n",
    "import datetime\n",
    "from dateutil.relativedelta import relativedelta\n",
    "from scipy.optimize import newton\n",
    "import pandas_market_calendars as mcal\n",
    "import pandas as pd\n",
    "from pandas import Timestamp\n",
    "import requests\n",
    "from bs4 import BeautifulSoup"
   ]
  },
  {
   "cell_type": "code",
   "execution_count": 13,
   "id": "0d329089",
   "metadata": {},
   "outputs": [],
   "source": [
    "PRICE = 92.25\n",
    "ISSUE = datetime.datetime(2024, 11, 15)\n",
    "RATE = 4.500\n",
    "MATURITY = datetime.datetime(2054, 11, 15)\n",
    "SETTLEMENT = datetime.datetime(2025, 6, 3)"
   ]
  },
  {
   "cell_type": "code",
   "execution_count": 14,
   "id": "ac54f3fb",
   "metadata": {},
   "outputs": [
    {
     "data": {
      "text/plain": [
       "5.007342"
      ]
     },
     "execution_count": 14,
     "metadata": {},
     "output_type": "execute_result"
    }
   ],
   "source": [
    "USTs(None, None).get_coupon_ytm(PRICE, ISSUE, MATURITY, SETTLEMENT, RATE, dirty=False)"
   ]
  },
  {
   "cell_type": "code",
   "execution_count": 6,
   "id": "1c50357e",
   "metadata": {},
   "outputs": [],
   "source": [
    "row = pd.DataFrame([{'End of day': PRICE,\n",
    "           'Maturity date': MATURITY,\n",
    "           'Issue date': ISSUE,\n",
    "           'EOD YTM': YTM,\n",
    "           'Rate': RATE}])"
   ]
  },
  {
   "cell_type": "code",
   "execution_count": null,
   "id": "53e61f25",
   "metadata": {},
   "outputs": [],
   "source": [
    "USTs(auction_data= None, price_data=None)._get_duration(row=row, settlement_date=SETTLEMENT.date())"
   ]
  },
  {
   "cell_type": "code",
   "execution_count": 15,
   "id": "6c1ea948",
   "metadata": {},
   "outputs": [
    {
     "data": {
      "text/plain": [
       "5.005743585103647"
      ]
     },
     "execution_count": 15,
     "metadata": {},
     "output_type": "execute_result"
    }
   ],
   "source": [
    "import rateslib as rl\n",
    "bond = rl.FixedRateBond(\n",
    "    effective=ISSUE,\n",
    "    termination=MATURITY,\n",
    "    fixed_rate = RATE,\n",
    "    spec=\"us_gb\"  # US Government Bond\n",
    ")\n",
    "rateslib = bond.ytm(price=PRICE, settlement=SETTLEMENT)\n",
    "rateslib"
   ]
  },
  {
   "cell_type": "code",
   "execution_count": null,
   "id": "a19091b8",
   "metadata": {},
   "outputs": [
    {
     "name": "stdout",
     "output_type": "stream",
     "text": [
      "No data on this date\n",
      "No data on this date\n",
      "No data on this date\n"
     ]
    }
   ],
   "source": [
    "all_data = dict()\n",
    "CUSIPS = ['912810UA4', '912810UC0', '912810UE6']\n",
    "for date in pd.date_range(start=datetime.date(2025, 6, 1), end=datetime.date(2025, 6, 10)):\n",
    "    date_price_info = dict()\n",
    "    payload = {\n",
    "                \"priceDate.month\": date.month,\n",
    "                \"priceDate.day\": date.day,\n",
    "                \"priceDate.year\": date.year,\n",
    "                \"submit\": \"Show Prices\"\n",
    "            }\n",
    "    response = requests.post(url=\"https://www.treasurydirect.gov/GA-FI/FedInvest/selectSecurityPriceDate\",\n",
    "                            data=payload, timeout=30)\n",
    "    response.raise_for_status()\n",
    "\n",
    "    output = BeautifulSoup(response.text, \"html.parser\")\n",
    "    table = output.find(\"table\", class_=\"data1\")\n",
    "    header_row = table.find_all(\"th\")\n",
    "    data = table.find_all(\"tr\")[1:]\n",
    "    if not data:\n",
    "        print(\"No data on this date\")\n",
    "    else:\n",
    "        headers = [header.get_text(strip=True).capitalize() for header in header_row]\n",
    "        for tr in data:\n",
    "            data_row = [td.get_text(strip=True) for td in tr.find_all(\"td\")]\n",
    "            if data_row[0] in CUSIPS: date_price_info[data_row[0]] = data_row[7]\n",
    "    all_data[date] = date_price_info\n",
    "df = pd.DataFrame(data=all_data).transpose().reset_index(drop=False).rename(columns={\"index\": \"Date\"}).dropna(axis=0)"
   ]
  }
 ],
 "metadata": {
  "kernelspec": {
   "display_name": "Python 3",
   "language": "python",
   "name": "python3"
  },
  "language_info": {
   "codemirror_mode": {
    "name": "ipython",
    "version": 3
   },
   "file_extension": ".py",
   "mimetype": "text/x-python",
   "name": "python",
   "nbconvert_exporter": "python",
   "pygments_lexer": "ipython3",
   "version": "3.12.1"
  }
 },
 "nbformat": 4,
 "nbformat_minor": 5
}
