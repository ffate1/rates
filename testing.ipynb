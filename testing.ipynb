{
 "cells": [
  {
   "cell_type": "code",
   "execution_count": 2,
   "id": "21e12678",
   "metadata": {},
   "outputs": [],
   "source": [
    "from datetime import datetime\n",
    "from bs4 import BeautifulSoup\n",
    "import pandas as pd\n",
    "import requests"
   ]
  },
  {
   "cell_type": "code",
   "execution_count": 3,
   "id": "bb0fe105",
   "metadata": {},
   "outputs": [],
   "source": [
    "payload = {\n",
    "    \"priceDate.month\": 2,\n",
    "    \"priceDate.day\": 5,\n",
    "    \"priceDate.year\": 2025,\n",
    "    \"submit\": \"Show Prices\"\n",
    "}\n",
    "\n",
    "url = \"https://www.treasurydirect.gov/GA-FI/FedInvest/selectSecurityPriceDate\"\n",
    "\n",
    "try:\n",
    "    response = requests.post(url=url, data=payload, timeout=30)\n",
    "    response.raise_for_status()\n",
    "\n",
    "except requests.exceptions.RequestException as e:\n",
    "    print(\"Error occured: {e}\")"
   ]
  },
  {
   "cell_type": "code",
   "execution_count": 4,
   "id": "2831ba40",
   "metadata": {},
   "outputs": [],
   "source": [
    "output = BeautifulSoup(response.text, \"html.parser\")\n",
    "table = output.find_all(\"table\", class_=\"data1\")\n"
   ]
  },
  {
   "cell_type": "code",
   "execution_count": 5,
   "id": "9395b66b",
   "metadata": {},
   "outputs": [
    {
     "data": {
      "text/plain": [
       "['CUSIP',\n",
       " 'SECURITY TYPE',\n",
       " 'RATE',\n",
       " 'MATURITY DATE',\n",
       " 'CALL DATE',\n",
       " 'BUY',\n",
       " 'SELL',\n",
       " 'END OF DAY']"
      ]
     },
     "execution_count": 5,
     "metadata": {},
     "output_type": "execute_result"
    }
   ],
   "source": [
    "table_header = output.find_all(\"th\")\n",
    "col_names = list()\n",
    "for header in table_header:\n",
    "    col_names.append(header.text)\n",
    "col_names"
   ]
  },
  {
   "cell_type": "code",
   "execution_count": 6,
   "id": "5821cae9",
   "metadata": {},
   "outputs": [],
   "source": [
    "info = output.find_all(\"tr\")[1:]\n",
    "row1 = info[1]\n",
    "table_data_info = list()\n",
    "for data in row1.find_all(\"td\"):\n",
    "    table_data_info.append(data.text)"
   ]
  },
  {
   "cell_type": "code",
   "execution_count": 7,
   "id": "c866b83c",
   "metadata": {},
   "outputs": [
    {
     "data": {
      "text/plain": [
       "['CUSIP',\n",
       " 'SECURITY TYPE',\n",
       " 'RATE',\n",
       " 'MATURITY DATE',\n",
       " 'CALL DATE',\n",
       " 'BUY',\n",
       " 'SELL',\n",
       " 'END OF DAY']"
      ]
     },
     "execution_count": 7,
     "metadata": {},
     "output_type": "execute_result"
    }
   ],
   "source": [
    "col_names"
   ]
  }
 ],
 "metadata": {
  "kernelspec": {
   "display_name": "Python 3",
   "language": "python",
   "name": "python3"
  },
  "language_info": {
   "codemirror_mode": {
    "name": "ipython",
    "version": 3
   },
   "file_extension": ".py",
   "mimetype": "text/x-python",
   "name": "python",
   "nbconvert_exporter": "python",
   "pygments_lexer": "ipython3",
   "version": "3.12.1"
  }
 },
 "nbformat": 4,
 "nbformat_minor": 5
}
