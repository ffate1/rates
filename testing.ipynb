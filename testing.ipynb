{
 "cells": [
  {
   "cell_type": "code",
   "execution_count": 169,
   "id": "3085cabb",
   "metadata": {},
   "outputs": [],
   "source": [
    "from USTs import USTs\n",
    "import datetime\n",
    "from datetime import timedelta\n",
    "from dateutil.relativedelta import relativedelta\n",
    "from scipy.optimize import newton\n",
    "import pandas_market_calendars as mcal\n",
    "import pandas as pd\n",
    "import numpy as np"
   ]
  },
  {
   "cell_type": "code",
   "execution_count": 170,
   "id": "cb457929",
   "metadata": {},
   "outputs": [
    {
     "data": {
      "text/plain": [
       "8.237"
      ]
     },
     "execution_count": 170,
     "metadata": {},
     "output_type": "execute_result"
    }
   ],
   "source": [
    "# Bill pricing\n",
    "issue_date = datetime.date(2025, 2, 4)\n",
    "maturity_date = datetime.date(2025, 4, 24)\n",
    "\n",
    "bill_1 = USTs(auction_data= None, price_data=None).get_bill_discount_rate(price=99.0808021,\n",
    "                                                                          issue_date=issue_date,\n",
    "                                                                          maturity_date=maturity_date)\n",
    "bill_1\n",
    "issue_date = datetime.date(2025, 2, 4)\n",
    "maturity_date = datetime.date(2025, 4, 24)\n",
    "bill_2 = USTs(auction_data= None, price_data=None).get_bill_BEYTM(price=99.0808021,\n",
    "                                                                          issue_date=issue_date,\n",
    "                                                                          maturity_date=maturity_date)\n",
    "bill_2\n",
    "issue_date = datetime.date(1990, 6, 7)\n",
    "maturity_date = datetime.date(1991, 6, 6)\n",
    "bill_2 = USTs(auction_data= None, price_data=None).get_bill_BEYTM(price=92.265000,\n",
    "                                                                          issue_date=issue_date,\n",
    "                                                                          maturity_date=maturity_date)\n",
    "bill_2"
   ]
  },
  {
   "cell_type": "code",
   "execution_count": null,
   "id": "74e99622",
   "metadata": {},
   "outputs": [],
   "source": [
    "holiday_array = mcal.get_calendar('NYSE').holidays().holidays\n",
    "start, end = datetime.date(1990, 1, 1), datetime.date(2060, 1, 1)\n",
    "holidays_list = [pd.to_datetime(np_date).date() for np_date in holiday_array]\n",
    "holidays = [holiday for holiday in holidays_list if start < holiday < end]\n",
    "nyse_calendar = mcal.get_calendar('NYSE').regular_holidays\n",
    "\n",
    "def adjust_for_bad_day(date: datetime.date) -> datetime.date: # type: ignore\n",
    "    while date.weekday() in [5, 6] or date in holidays:\n",
    "        date = date + timedelta(days=1)\n",
    "    return date\n",
    "\n",
    "def get_dates_and_cashflows(issue_date: datetime.date,\n",
    "                            maturity_date: datetime.date,\n",
    "                            coupon: float,\n",
    "                            FV: int = 100):\n",
    "    payment_dates = [maturity_date]\n",
    "    current_date = maturity_date\n",
    "    while current_date > issue_date:\n",
    "        current_date = maturity_date - relativedelta(months=len(payment_dates) * 6)\n",
    "        if current_date > issue_date:\n",
    "            payment_dates.append(current_date)\n",
    "    payment_dates = sorted(payment_dates)\n",
    "    \n",
    "    coupon_amt = coupon / 2\n",
    "    return_list = [(issue_date, 0.0)] # Issue date\n",
    "    for date in payment_dates[:-1]:\n",
    "        return_list.append((date, coupon_amt))\n",
    "    return_list.append((payment_dates[-1], coupon_amt + FV)) # Maturity with principal repayment\n",
    "    return return_list\n",
    "\n",
    "def calculate_accrued_interest(dates_and_cashflows, as_of_date) -> float:\n",
    "    for date, _ in dates_and_cashflows:\n",
    "        if date > as_of_date:\n",
    "            next_coupon_date = date\n",
    "            previous_index = dates_and_cashflows.index((date, _)) - 1\n",
    "            last_date = dates_and_cashflows[previous_index][0]\n",
    "            break\n",
    "\n",
    "    days_in_period = (next_coupon_date - last_date).days\n",
    "    days_accrued = (as_of_date - last_date).days\n",
    "    if days_in_period == 0:\n",
    "        return 0.0\n",
    "\n",
    "    coupon_amt = dates_and_cashflows[1][1]\n",
    "    accrued = coupon_amt * days_accrued / days_in_period\n",
    "    return accrued\n",
    "\n",
    "def calculate_bond_price(issue_date: datetime.date,\n",
    "                         maturity_date: datetime.date,\n",
    "                         as_of_date: datetime.date,\n",
    "                         coupon: float,\n",
    "                         discount_rate: float,\n",
    "                         dirty: bool = False) -> float:\n",
    "    \n",
    "    dates_and_cashflows = get_dates_and_cashflows(issue_date=issue_date,\n",
    "                                                      maturity_date=maturity_date,\n",
    "                                                      coupon=coupon)\n",
    "    for date, _ in dates_and_cashflows:\n",
    "        if date > as_of_date:\n",
    "            first_pmt_date = adjust_for_bad_day(date)\n",
    "            previous_index = dates_and_cashflows.index((date, _)) - 1\n",
    "            last_date = adjust_for_bad_day(dates_and_cashflows[previous_index][0])\n",
    "            first_pmt_period = (first_pmt_date - last_date).days\n",
    "            time_to_pmt = (first_pmt_date - as_of_date).days\n",
    "            break\n",
    "    first_period_fraction = time_to_pmt / first_pmt_period\n",
    "\n",
    "    PV = 0\n",
    "    exponent = first_period_fraction\n",
    "    previous_date = None\n",
    "    for unadjusted_date, cashflow in dates_and_cashflows:\n",
    "        date = adjust_for_bad_day(unadjusted_date)\n",
    "        if date > as_of_date:\n",
    "            if previous_date:\n",
    "                days_in_period = (date - previous_date).days\n",
    "                exponent += (days_in_period / (365 / 2))\n",
    "            pmt_pv = cashflow / ((1 + discount_rate/2) ** exponent)\n",
    "            PV += pmt_pv\n",
    "            previous_date = date\n",
    "\n",
    "    if not dirty: # Clean price\n",
    "        accrued = calculate_accrued_interest(dates_and_cashflows=dates_and_cashflows,\n",
    "                                             as_of_date=as_of_date)\n",
    "        PV -= accrued\n",
    "    return PV\n",
    "\n",
    "def error_function(discount_rate: float,\n",
    "                   price: float,\n",
    "                   issue_date: datetime.date,\n",
    "                   maturity_date: datetime.date,\n",
    "                   as_of_date: datetime.date,\n",
    "                   coupon: float,\n",
    "                   dirty: bool=False):\n",
    "    calculated_price = calculate_bond_price(issue_date=issue_date,\n",
    "                                            maturity_date=maturity_date,\n",
    "                                            discount_rate=discount_rate,\n",
    "                                            coupon=coupon,\n",
    "                                            as_of_date=as_of_date,\n",
    "                                            dirty=dirty)\n",
    "    error = price - calculated_price\n",
    "    return error\n",
    "\n",
    "\n",
    "def get_coupon_ytm(price: float, \n",
    "            issue_date: datetime.date,\n",
    "            maturity_date: datetime.date,\n",
    "            as_of_date: datetime.date,\n",
    "            coupon: float,\n",
    "            dirty: bool=False):\n",
    "    guess = coupon / 100\n",
    "\n",
    "    try:\n",
    "        ytm = newton(\n",
    "            func=error_function,\n",
    "            x0=guess,\n",
    "            args=(price, issue_date, maturity_date, as_of_date, coupon, dirty)\n",
    "        )\n",
    "        return round(float(ytm * 100), 6)\n",
    "    except RuntimeError:\n",
    "        return None"
   ]
  },
  {
   "cell_type": "code",
   "execution_count": 172,
   "id": "0d329089",
   "metadata": {},
   "outputs": [],
   "source": [
    "PRICE = 100.32670 - 0.100138\n",
    "ISSUE = datetime.datetime(2001, 8, 31)\n",
    "MATURITY = datetime.datetime(2003, 8, 31)\n",
    "RATE = 3.625\n",
    "SETTLEMENT = datetime.datetime(2001, 9, 10)"
   ]
  },
  {
   "cell_type": "code",
   "execution_count": 181,
   "id": "45b2c2dd",
   "metadata": {},
   "outputs": [
    {
     "data": {
      "text/plain": [
       "[(datetime.date(2001, 8, 31), 0.0),\n",
       " (datetime.date(2002, 2, 28), 1.8125),\n",
       " (datetime.date(2002, 8, 31), 1.8125),\n",
       " (datetime.date(2003, 2, 28), 1.8125),\n",
       " (datetime.date(2003, 8, 31), 101.8125)]"
      ]
     },
     "execution_count": 181,
     "metadata": {},
     "output_type": "execute_result"
    }
   ],
   "source": [
    "get_dates_and_cashflows(ISSUE.date(), MATURITY.date(), RATE)"
   ]
  },
  {
   "cell_type": "code",
   "execution_count": 173,
   "id": "120e92f5",
   "metadata": {},
   "outputs": [
    {
     "data": {
      "text/plain": [
       "3.487633"
      ]
     },
     "execution_count": 173,
     "metadata": {},
     "output_type": "execute_result"
    }
   ],
   "source": [
    "get_coupon_ytm(price=PRICE,\n",
    "        issue_date=ISSUE.date(),\n",
    "        maturity_date=MATURITY.date(),\n",
    "        as_of_date=SETTLEMENT.date(),\n",
    "        coupon=RATE)"
   ]
  },
  {
   "cell_type": "code",
   "execution_count": 174,
   "id": "6c1ea948",
   "metadata": {},
   "outputs": [
    {
     "data": {
      "text/plain": [
       "3.5046797329273054"
      ]
     },
     "execution_count": 174,
     "metadata": {},
     "output_type": "execute_result"
    }
   ],
   "source": [
    "import rateslib as rl\n",
    "bond = rl.FixedRateBond(\n",
    "    effective=ISSUE,\n",
    "    termination=MATURITY,\n",
    "    fixed_rate=RATE,\n",
    "    spec=\"us_gb\"  # US Government Bond\n",
    ")\n",
    "bond.ytm(price=PRICE, settlement=SETTLEMENT, dirty=False)"
   ]
  },
  {
   "cell_type": "code",
   "execution_count": 175,
   "id": "c79649f2",
   "metadata": {},
   "outputs": [
    {
     "data": {
      "text/plain": [
       "0.10013812154696132"
      ]
     },
     "execution_count": 175,
     "metadata": {},
     "output_type": "execute_result"
    }
   ],
   "source": [
    "bond.accrued(settlement=SETTLEMENT)"
   ]
  },
  {
   "cell_type": "code",
   "execution_count": 176,
   "id": "c2047a89",
   "metadata": {},
   "outputs": [
    {
     "name": "stdout",
     "output_type": "stream",
     "text": [
      "0.10013812154696132\n",
      "0.10013812154696132\n",
      "0.10013812154696132\n",
      "0.10013812154696132\n",
      "0.10013812154696132\n",
      "0.10013812154696132\n"
     ]
    },
    {
     "data": {
      "text/plain": [
       "3.506683"
      ]
     },
     "execution_count": 176,
     "metadata": {},
     "output_type": "execute_result"
    }
   ],
   "source": [
    "USTs(auction_data=None,price_data=None).get_coupon_ytm(price=PRICE, issue_date=ISSUE.date(),\n",
    "                    maturity_date=MATURITY.date(),\n",
    "                    as_of_date=SETTLEMENT.date(),\n",
    "                    coupon=RATE)"
   ]
  },
  {
   "cell_type": "code",
   "execution_count": 177,
   "id": "29029241",
   "metadata": {},
   "outputs": [
    {
     "data": {
      "text/plain": [
       "171"
      ]
     },
     "execution_count": 177,
     "metadata": {},
     "output_type": "execute_result"
    }
   ],
   "source": [
    "(datetime.date(2002, 2, 28) - datetime.date(2001, 9, 10)).days # 171 days\n",
    "# (datetime.date(2001, 7, 31) - datetime.date(2001, 1, 31)).days # 181 days\n",
    "\n",
    "# First period is 171 / 181.\n",
    "# Approximation is to use this for first period, discounting by YTM rate, and add 1 to this\n",
    "# fraction for each subsequent period. However, this does not lead to an exact result.\n",
    "\n",
    "# Accounting for 'bad days' - Aug 31 2003 3 5/8ths - four coupon periods.\n",
    "# Accurate calculation method:\n",
    "    # First coupon is as above, \n",
    "\n"
   ]
  },
  {
   "cell_type": "code",
   "execution_count": 178,
   "id": "8a2fc465",
   "metadata": {},
   "outputs": [
    {
     "data": {
      "text/plain": [
       "181"
      ]
     },
     "execution_count": 178,
     "metadata": {},
     "output_type": "execute_result"
    }
   ],
   "source": [
    "(adjust_for_bad_day(datetime.date(2002, 2, 28)) - adjust_for_bad_day(datetime.date(2001, 8, 31))).days \n",
    "# 181 days (171 days remaining) - 171 / 181 -> 0.9447513812154696\n",
    "# 187 days - second CF - 187 / (365 / 2) -> 1.0246575342465754\n",
    "# 178 days - third CF - 178 / (365 / 2) -> 0.9753424657534246\n",
    "# 186 days - final CF - 186 / (365/2) -> 1.0191780821917809"
   ]
  },
  {
   "cell_type": "code",
   "execution_count": 179,
   "id": "6e5eba5d",
   "metadata": {},
   "outputs": [
    {
     "data": {
      "text/plain": [
       "10"
      ]
     },
     "execution_count": 179,
     "metadata": {},
     "output_type": "execute_result"
    }
   ],
   "source": [
    "(datetime.date(2001, 9, 10) - datetime.date(2001, 8, 31)).days"
   ]
  },
  {
   "cell_type": "code",
   "execution_count": 180,
   "id": "a15d6b85",
   "metadata": {},
   "outputs": [
    {
     "data": {
      "text/plain": [
       "0.09850543478260869"
      ]
     },
     "execution_count": 180,
     "metadata": {},
     "output_type": "execute_result"
    }
   ],
   "source": [
    "10 * 3.625 / 2 /184"
   ]
  }
 ],
 "metadata": {
  "kernelspec": {
   "display_name": "Python 3",
   "language": "python",
   "name": "python3"
  },
  "language_info": {
   "codemirror_mode": {
    "name": "ipython",
    "version": 3
   },
   "file_extension": ".py",
   "mimetype": "text/x-python",
   "name": "python",
   "nbconvert_exporter": "python",
   "pygments_lexer": "ipython3",
   "version": "3.12.1"
  }
 },
 "nbformat": 4,
 "nbformat_minor": 5
}
