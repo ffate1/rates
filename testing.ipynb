{
 "cells": [
  {
   "cell_type": "code",
   "execution_count": 1,
   "id": "3085cabb",
   "metadata": {},
   "outputs": [],
   "source": [
    "from USTs import USTs\n",
    "from DataFetcher import DataFetcher\n",
    "import datetime\n",
    "from scipy.optimize import newton\n",
    "import pandas as pd\n",
    "import requests\n",
    "from bs4 import BeautifulSoup\n",
    "import requests"
   ]
  },
  {
   "cell_type": "code",
   "execution_count": 2,
   "id": "26f599b6",
   "metadata": {},
   "outputs": [],
   "source": [
    "CUSIPs = ['912810RB6', '912810SR0']\n",
    "START = datetime.date(2025, 3, 1)\n",
    "END = datetime.date(2025, 6, 30)\n",
    "# USTs(None, None).get_cusip_timeseries(cusips, datetime.date(2025, 1, 1), datetime.date(2025, 6, 30))"
   ]
  },
  {
   "cell_type": "code",
   "execution_count": 3,
   "id": "dc90fea2",
   "metadata": {},
   "outputs": [
    {
     "data": {
      "text/html": [
       "<div>\n",
       "<style scoped>\n",
       "    .dataframe tbody tr th:only-of-type {\n",
       "        vertical-align: middle;\n",
       "    }\n",
       "\n",
       "    .dataframe tbody tr th {\n",
       "        vertical-align: top;\n",
       "    }\n",
       "\n",
       "    .dataframe thead th {\n",
       "        text-align: right;\n",
       "    }\n",
       "</style>\n",
       "<table border=\"1\" class=\"dataframe\">\n",
       "  <thead>\n",
       "    <tr style=\"text-align: right;\">\n",
       "      <th></th>\n",
       "      <th>912810SR0</th>\n",
       "      <th>912810RB6</th>\n",
       "      <th>Spread</th>\n",
       "    </tr>\n",
       "    <tr>\n",
       "      <th>Date</th>\n",
       "      <th></th>\n",
       "      <th></th>\n",
       "      <th></th>\n",
       "    </tr>\n",
       "  </thead>\n",
       "  <tbody>\n",
       "    <tr>\n",
       "      <th>2025-03-03</th>\n",
       "      <td>63.90625</td>\n",
       "      <td>79.75000</td>\n",
       "      <td>15.84375</td>\n",
       "    </tr>\n",
       "    <tr>\n",
       "      <th>2025-03-04</th>\n",
       "      <td>63.28125</td>\n",
       "      <td>78.96875</td>\n",
       "      <td>15.68750</td>\n",
       "    </tr>\n",
       "    <tr>\n",
       "      <th>2025-03-05</th>\n",
       "      <td>62.81250</td>\n",
       "      <td>78.43750</td>\n",
       "      <td>15.62500</td>\n",
       "    </tr>\n",
       "    <tr>\n",
       "      <th>2025-03-06</th>\n",
       "      <td>62.59375</td>\n",
       "      <td>78.21875</td>\n",
       "      <td>15.62500</td>\n",
       "    </tr>\n",
       "    <tr>\n",
       "      <th>2025-03-07</th>\n",
       "      <td>62.40625</td>\n",
       "      <td>77.93750</td>\n",
       "      <td>15.53125</td>\n",
       "    </tr>\n",
       "    <tr>\n",
       "      <th>...</th>\n",
       "      <td>...</td>\n",
       "      <td>...</td>\n",
       "      <td>...</td>\n",
       "    </tr>\n",
       "    <tr>\n",
       "      <th>2025-06-24</th>\n",
       "      <td>61.65625</td>\n",
       "      <td>76.53125</td>\n",
       "      <td>14.87500</td>\n",
       "    </tr>\n",
       "    <tr>\n",
       "      <th>2025-06-25</th>\n",
       "      <td>61.68750</td>\n",
       "      <td>76.53125</td>\n",
       "      <td>14.84375</td>\n",
       "    </tr>\n",
       "    <tr>\n",
       "      <th>2025-06-26</th>\n",
       "      <td>61.81250</td>\n",
       "      <td>76.75000</td>\n",
       "      <td>14.93750</td>\n",
       "    </tr>\n",
       "    <tr>\n",
       "      <th>2025-06-27</th>\n",
       "      <td>61.56250</td>\n",
       "      <td>76.37500</td>\n",
       "      <td>14.81250</td>\n",
       "    </tr>\n",
       "    <tr>\n",
       "      <th>2025-06-30</th>\n",
       "      <td>62.15625</td>\n",
       "      <td>77.09375</td>\n",
       "      <td>14.93750</td>\n",
       "    </tr>\n",
       "  </tbody>\n",
       "</table>\n",
       "<p>84 rows × 3 columns</p>\n",
       "</div>"
      ],
      "text/plain": [
       "            912810SR0  912810RB6    Spread\n",
       "Date                                      \n",
       "2025-03-03   63.90625   79.75000  15.84375\n",
       "2025-03-04   63.28125   78.96875  15.68750\n",
       "2025-03-05   62.81250   78.43750  15.62500\n",
       "2025-03-06   62.59375   78.21875  15.62500\n",
       "2025-03-07   62.40625   77.93750  15.53125\n",
       "...               ...        ...       ...\n",
       "2025-06-24   61.65625   76.53125  14.87500\n",
       "2025-06-25   61.68750   76.53125  14.84375\n",
       "2025-06-26   61.81250   76.75000  14.93750\n",
       "2025-06-27   61.56250   76.37500  14.81250\n",
       "2025-06-30   62.15625   77.09375  14.93750\n",
       "\n",
       "[84 rows x 3 columns]"
      ]
     },
     "execution_count": 3,
     "metadata": {},
     "output_type": "execute_result"
    }
   ],
   "source": [
    "price_data = DataFetcher().fetch_cusip_timeseries(CUSIPs, START, END)\n",
    "ytm_timeseries = price_data.copy()\n",
    "        \n",
    "if len(CUSIPs) == 2:\n",
    "    if ytm_timeseries.shape[1] < 2:\n",
    "        print(\"wrong shape\")\n",
    "    else:\n",
    "        ytm_timeseries['Spread'] = ytm_timeseries.iloc[:, 1] - ytm_timeseries.iloc[:, 0]\n",
    "ytm_timeseries"
   ]
  },
  {
   "cell_type": "code",
   "execution_count": 4,
   "id": "da4fa399",
   "metadata": {},
   "outputs": [
    {
     "ename": "KeyboardInterrupt",
     "evalue": "",
     "output_type": "error",
     "traceback": [
      "\u001b[31m---------------------------------------------------------------------------\u001b[39m",
      "\u001b[31mKeyboardInterrupt\u001b[39m                         Traceback (most recent call last)",
      "\u001b[36mCell\u001b[39m\u001b[36m \u001b[39m\u001b[32mIn[4]\u001b[39m\u001b[32m, line 15\u001b[39m\n\u001b[32m     12\u001b[39m response = requests.post(url=\u001b[33m\"\u001b[39m\u001b[33mhttps://www.treasurydirect.gov/GA-FI/FedInvest/selectSecurityPriceDate\u001b[39m\u001b[33m\"\u001b[39m, data=payload, timeout=\u001b[32m30\u001b[39m)\n\u001b[32m     13\u001b[39m response.raise_for_status()\n\u001b[32m---> \u001b[39m\u001b[32m15\u001b[39m output = \u001b[43mBeautifulSoup\u001b[49m\u001b[43m(\u001b[49m\u001b[43mresponse\u001b[49m\u001b[43m.\u001b[49m\u001b[43mtext\u001b[49m\u001b[43m,\u001b[49m\u001b[43m \u001b[49m\u001b[33;43m\"\u001b[39;49m\u001b[33;43mhtml.parser\u001b[39;49m\u001b[33;43m\"\u001b[39;49m\u001b[43m)\u001b[49m\n\u001b[32m     16\u001b[39m table = output.find(\u001b[33m\"\u001b[39m\u001b[33mtable\u001b[39m\u001b[33m\"\u001b[39m, class_=\u001b[33m\"\u001b[39m\u001b[33mdata1\u001b[39m\u001b[33m\"\u001b[39m)\n\u001b[32m     17\u001b[39m data = table.find_all(\u001b[33m\"\u001b[39m\u001b[33mtr\u001b[39m\u001b[33m\"\u001b[39m)[\u001b[32m1\u001b[39m:]\n",
      "\u001b[36mFile \u001b[39m\u001b[32m~/.local/lib/python3.12/site-packages/bs4/__init__.py:473\u001b[39m, in \u001b[36mBeautifulSoup.__init__\u001b[39m\u001b[34m(self, markup, features, builder, parse_only, from_encoding, exclude_encodings, element_classes, **kwargs)\u001b[39m\n\u001b[32m    471\u001b[39m \u001b[38;5;28mself\u001b[39m.builder.initialize_soup(\u001b[38;5;28mself\u001b[39m)\n\u001b[32m    472\u001b[39m \u001b[38;5;28;01mtry\u001b[39;00m:\n\u001b[32m--> \u001b[39m\u001b[32m473\u001b[39m     \u001b[38;5;28;43mself\u001b[39;49m\u001b[43m.\u001b[49m\u001b[43m_feed\u001b[49m\u001b[43m(\u001b[49m\u001b[43m)\u001b[49m\n\u001b[32m    474\u001b[39m     success = \u001b[38;5;28;01mTrue\u001b[39;00m\n\u001b[32m    475\u001b[39m     \u001b[38;5;28;01mbreak\u001b[39;00m\n",
      "\u001b[36mFile \u001b[39m\u001b[32m~/.local/lib/python3.12/site-packages/bs4/__init__.py:658\u001b[39m, in \u001b[36mBeautifulSoup._feed\u001b[39m\u001b[34m(self)\u001b[39m\n\u001b[32m    655\u001b[39m \u001b[38;5;28mself\u001b[39m.builder.reset()\n\u001b[32m    657\u001b[39m \u001b[38;5;28;01mif\u001b[39;00m \u001b[38;5;28mself\u001b[39m.markup \u001b[38;5;129;01mis\u001b[39;00m \u001b[38;5;129;01mnot\u001b[39;00m \u001b[38;5;28;01mNone\u001b[39;00m:\n\u001b[32m--> \u001b[39m\u001b[32m658\u001b[39m     \u001b[38;5;28;43mself\u001b[39;49m\u001b[43m.\u001b[49m\u001b[43mbuilder\u001b[49m\u001b[43m.\u001b[49m\u001b[43mfeed\u001b[49m\u001b[43m(\u001b[49m\u001b[38;5;28;43mself\u001b[39;49m\u001b[43m.\u001b[49m\u001b[43mmarkup\u001b[49m\u001b[43m)\u001b[49m\n\u001b[32m    659\u001b[39m \u001b[38;5;66;03m# Close out any unfinished strings and close all the open tags.\u001b[39;00m\n\u001b[32m    660\u001b[39m \u001b[38;5;28mself\u001b[39m.endData()\n",
      "\u001b[36mFile \u001b[39m\u001b[32m~/.local/lib/python3.12/site-packages/bs4/builder/_htmlparser.py:467\u001b[39m, in \u001b[36mHTMLParserTreeBuilder.feed\u001b[39m\u001b[34m(self, markup)\u001b[39m\n\u001b[32m    464\u001b[39m parser = BeautifulSoupHTMLParser(\u001b[38;5;28mself\u001b[39m.soup, *args, **kwargs)\n\u001b[32m    466\u001b[39m \u001b[38;5;28;01mtry\u001b[39;00m:\n\u001b[32m--> \u001b[39m\u001b[32m467\u001b[39m     \u001b[43mparser\u001b[49m\u001b[43m.\u001b[49m\u001b[43mfeed\u001b[49m\u001b[43m(\u001b[49m\u001b[43mmarkup\u001b[49m\u001b[43m)\u001b[49m\n\u001b[32m    468\u001b[39m     parser.close()\n\u001b[32m    469\u001b[39m \u001b[38;5;28;01mexcept\u001b[39;00m \u001b[38;5;167;01mAssertionError\u001b[39;00m \u001b[38;5;28;01mas\u001b[39;00m e:\n\u001b[32m    470\u001b[39m     \u001b[38;5;66;03m# html.parser raises AssertionError in rare cases to\u001b[39;00m\n\u001b[32m    471\u001b[39m     \u001b[38;5;66;03m# indicate a fatal problem with the markup, especially\u001b[39;00m\n\u001b[32m    472\u001b[39m     \u001b[38;5;66;03m# when there's an error in the doctype declaration.\u001b[39;00m\n",
      "\u001b[36mFile \u001b[39m\u001b[32m/usr/local/python/3.12.1/lib/python3.12/html/parser.py:111\u001b[39m, in \u001b[36mHTMLParser.feed\u001b[39m\u001b[34m(self, data)\u001b[39m\n\u001b[32m    105\u001b[39m \u001b[38;5;250m\u001b[39m\u001b[33mr\u001b[39m\u001b[33;03m\"\"\"Feed data to the parser.\u001b[39;00m\n\u001b[32m    106\u001b[39m \n\u001b[32m    107\u001b[39m \u001b[33;03mCall this as often as you want, with as little or as much text\u001b[39;00m\n\u001b[32m    108\u001b[39m \u001b[33;03mas you want (may include '\\n').\u001b[39;00m\n\u001b[32m    109\u001b[39m \u001b[33;03m\"\"\"\u001b[39;00m\n\u001b[32m    110\u001b[39m \u001b[38;5;28mself\u001b[39m.rawdata = \u001b[38;5;28mself\u001b[39m.rawdata + data\n\u001b[32m--> \u001b[39m\u001b[32m111\u001b[39m \u001b[38;5;28;43mself\u001b[39;49m\u001b[43m.\u001b[49m\u001b[43mgoahead\u001b[49m\u001b[43m(\u001b[49m\u001b[32;43m0\u001b[39;49m\u001b[43m)\u001b[49m\n",
      "\u001b[36mFile \u001b[39m\u001b[32m/usr/local/python/3.12.1/lib/python3.12/html/parser.py:173\u001b[39m, in \u001b[36mHTMLParser.goahead\u001b[39m\u001b[34m(self, end)\u001b[39m\n\u001b[32m    171\u001b[39m     k = \u001b[38;5;28mself\u001b[39m.parse_starttag(i)\n\u001b[32m    172\u001b[39m \u001b[38;5;28;01melif\u001b[39;00m startswith(\u001b[33m\"\u001b[39m\u001b[33m</\u001b[39m\u001b[33m\"\u001b[39m, i):\n\u001b[32m--> \u001b[39m\u001b[32m173\u001b[39m     k = \u001b[38;5;28;43mself\u001b[39;49m\u001b[43m.\u001b[49m\u001b[43mparse_endtag\u001b[49m\u001b[43m(\u001b[49m\u001b[43mi\u001b[49m\u001b[43m)\u001b[49m\n\u001b[32m    174\u001b[39m \u001b[38;5;28;01melif\u001b[39;00m startswith(\u001b[33m\"\u001b[39m\u001b[33m<!--\u001b[39m\u001b[33m\"\u001b[39m, i):\n\u001b[32m    175\u001b[39m     k = \u001b[38;5;28mself\u001b[39m.parse_comment(i)\n",
      "\u001b[36mFile \u001b[39m\u001b[32m/usr/local/python/3.12.1/lib/python3.12/html/parser.py:414\u001b[39m, in \u001b[36mHTMLParser.parse_endtag\u001b[39m\u001b[34m(self, i)\u001b[39m\n\u001b[32m    411\u001b[39m         \u001b[38;5;28mself\u001b[39m.handle_data(rawdata[i:gtpos])\n\u001b[32m    412\u001b[39m         \u001b[38;5;28;01mreturn\u001b[39;00m gtpos\n\u001b[32m--> \u001b[39m\u001b[32m414\u001b[39m \u001b[38;5;28;43mself\u001b[39;49m\u001b[43m.\u001b[49m\u001b[43mhandle_endtag\u001b[49m\u001b[43m(\u001b[49m\u001b[43melem\u001b[49m\u001b[43m)\u001b[49m\n\u001b[32m    415\u001b[39m \u001b[38;5;28mself\u001b[39m.clear_cdata_mode()\n\u001b[32m    416\u001b[39m \u001b[38;5;28;01mreturn\u001b[39;00m gtpos\n",
      "\u001b[36mFile \u001b[39m\u001b[32m~/.local/lib/python3.12/site-packages/bs4/builder/_htmlparser.py:220\u001b[39m, in \u001b[36mBeautifulSoupHTMLParser.handle_endtag\u001b[39m\u001b[34m(self, name, check_already_closed)\u001b[39m\n\u001b[32m    218\u001b[39m     \u001b[38;5;28mself\u001b[39m.already_closed_empty_element.remove(name)\n\u001b[32m    219\u001b[39m \u001b[38;5;28;01melse\u001b[39;00m:\n\u001b[32m--> \u001b[39m\u001b[32m220\u001b[39m     \u001b[38;5;28;43mself\u001b[39;49m\u001b[43m.\u001b[49m\u001b[43msoup\u001b[49m\u001b[43m.\u001b[49m\u001b[43mhandle_endtag\u001b[49m\u001b[43m(\u001b[49m\u001b[43mname\u001b[49m\u001b[43m)\u001b[49m\n",
      "\u001b[36mFile \u001b[39m\u001b[32m~/.local/lib/python3.12/site-packages/bs4/__init__.py:1062\u001b[39m, in \u001b[36mBeautifulSoup.handle_endtag\u001b[39m\u001b[34m(self, name, nsprefix)\u001b[39m\n\u001b[32m   1054\u001b[39m \u001b[38;5;250m\u001b[39m\u001b[33;03m\"\"\"Called by the tree builder when an ending tag is encountered.\u001b[39;00m\n\u001b[32m   1055\u001b[39m \n\u001b[32m   1056\u001b[39m \u001b[33;03m:param name: Name of the tag.\u001b[39;00m\n\u001b[32m   (...)\u001b[39m\u001b[32m   1059\u001b[39m \u001b[33;03m:meta private:\u001b[39;00m\n\u001b[32m   1060\u001b[39m \u001b[33;03m\"\"\"\u001b[39;00m\n\u001b[32m   1061\u001b[39m \u001b[38;5;66;03m# print(\"End tag: \" + name)\u001b[39;00m\n\u001b[32m-> \u001b[39m\u001b[32m1062\u001b[39m \u001b[38;5;28;43mself\u001b[39;49m\u001b[43m.\u001b[49m\u001b[43mendData\u001b[49m\u001b[43m(\u001b[49m\u001b[43m)\u001b[49m\n\u001b[32m   1063\u001b[39m \u001b[38;5;28mself\u001b[39m._popToTag(name, nsprefix)\n",
      "\u001b[36mFile \u001b[39m\u001b[32m~/.local/lib/python3.12/site-packages/bs4/__init__.py:865\u001b[39m, in \u001b[36mBeautifulSoup.endData\u001b[39m\u001b[34m(self, containerClass)\u001b[39m\n\u001b[32m    863\u001b[39m containerClass = \u001b[38;5;28mself\u001b[39m.string_container(containerClass)\n\u001b[32m    864\u001b[39m o = containerClass(current_data)\n\u001b[32m--> \u001b[39m\u001b[32m865\u001b[39m \u001b[38;5;28;43mself\u001b[39;49m\u001b[43m.\u001b[49m\u001b[43mobject_was_parsed\u001b[49m\u001b[43m(\u001b[49m\u001b[43mo\u001b[49m\u001b[43m)\u001b[49m\n",
      "\u001b[36mFile \u001b[39m\u001b[32m~/.local/lib/python3.12/site-packages/bs4/__init__.py:897\u001b[39m, in \u001b[36mBeautifulSoup.object_was_parsed\u001b[39m\u001b[34m(self, o, parent, most_recent_element)\u001b[39m\n\u001b[32m    893\u001b[39m         previous_element = o.previous_element\n\u001b[32m    895\u001b[39m fix = parent.next_element \u001b[38;5;129;01mis\u001b[39;00m \u001b[38;5;129;01mnot\u001b[39;00m \u001b[38;5;28;01mNone\u001b[39;00m\n\u001b[32m--> \u001b[39m\u001b[32m897\u001b[39m \u001b[43mo\u001b[49m\u001b[43m.\u001b[49m\u001b[43msetup\u001b[49m\u001b[43m(\u001b[49m\u001b[43mparent\u001b[49m\u001b[43m,\u001b[49m\u001b[43m \u001b[49m\u001b[43mprevious_element\u001b[49m\u001b[43m,\u001b[49m\u001b[43m \u001b[49m\u001b[43mnext_element\u001b[49m\u001b[43m,\u001b[49m\u001b[43m \u001b[49m\u001b[43mprevious_sibling\u001b[49m\u001b[43m,\u001b[49m\u001b[43m \u001b[49m\u001b[43mnext_sibling\u001b[49m\u001b[43m)\u001b[49m\n\u001b[32m    899\u001b[39m \u001b[38;5;28mself\u001b[39m._most_recent_element = o\n\u001b[32m    900\u001b[39m parent.contents.append(o)\n",
      "\u001b[36mFile \u001b[39m\u001b[32m~/.local/lib/python3.12/site-packages/bs4/element.py:376\u001b[39m, in \u001b[36mPageElement.setup\u001b[39m\u001b[34m(self, parent, previous_element, next_element, previous_sibling, next_sibling)\u001b[39m\n\u001b[32m    372\u001b[39m \u001b[38;5;66;03m#: Whether or not this element is hidden from generated output.\u001b[39;00m\n\u001b[32m    373\u001b[39m \u001b[38;5;66;03m#: Only the `BeautifulSoup` object itself is hidden.\u001b[39;00m\n\u001b[32m    374\u001b[39m hidden: \u001b[38;5;28mbool\u001b[39m = \u001b[38;5;28;01mFalse\u001b[39;00m\n\u001b[32m--> \u001b[39m\u001b[32m376\u001b[39m \u001b[38;5;28;01mdef\u001b[39;00m\u001b[38;5;250m \u001b[39m\u001b[34msetup\u001b[39m(\n\u001b[32m    377\u001b[39m     \u001b[38;5;28mself\u001b[39m,\n\u001b[32m    378\u001b[39m     parent: Optional[Tag] = \u001b[38;5;28;01mNone\u001b[39;00m,\n\u001b[32m    379\u001b[39m     previous_element: _AtMostOneElement = \u001b[38;5;28;01mNone\u001b[39;00m,\n\u001b[32m    380\u001b[39m     next_element: _AtMostOneElement = \u001b[38;5;28;01mNone\u001b[39;00m,\n\u001b[32m    381\u001b[39m     previous_sibling: _AtMostOneElement = \u001b[38;5;28;01mNone\u001b[39;00m,\n\u001b[32m    382\u001b[39m     next_sibling: _AtMostOneElement = \u001b[38;5;28;01mNone\u001b[39;00m,\n\u001b[32m    383\u001b[39m ) -> \u001b[38;5;28;01mNone\u001b[39;00m:\n\u001b[32m    384\u001b[39m \u001b[38;5;250m    \u001b[39m\u001b[33;03m\"\"\"Sets up the initial relations between this element and\u001b[39;00m\n\u001b[32m    385\u001b[39m \u001b[33;03m    other elements.\u001b[39;00m\n\u001b[32m    386\u001b[39m \n\u001b[32m   (...)\u001b[39m\u001b[32m    399\u001b[39m \u001b[33;03m        on the same level of the parse tree as this one.\u001b[39;00m\n\u001b[32m    400\u001b[39m \u001b[33;03m    \"\"\"\u001b[39;00m\n\u001b[32m    401\u001b[39m     \u001b[38;5;28mself\u001b[39m.parent = parent\n",
      "\u001b[31mKeyboardInterrupt\u001b[39m: "
     ]
    }
   ],
   "source": [
    "date_range = pd.date_range(start=START, end=END).to_list()\n",
    "all_data = dict()\n",
    "        \n",
    "for date in date_range:\n",
    "    date_price_info = dict()\n",
    "    payload = {\n",
    "         \"priceDate.month\": date.month,\n",
    "         \"priceDate.day\": date.day,\n",
    "         \"priceDate.year\": date.year,\n",
    "         \"submit\": \"Show Prices\"\n",
    "         }\n",
    "    response = requests.post(url=\"https://www.treasurydirect.gov/GA-FI/FedInvest/selectSecurityPriceDate\", data=payload, timeout=30)\n",
    "    response.raise_for_status()\n",
    "\n",
    "    output = BeautifulSoup(response.text, \"html.parser\")\n",
    "    table = output.find(\"table\", class_=\"data1\")\n",
    "    data = table.find_all(\"tr\")[1:]\n",
    "    if data:\n",
    "        for tr in data:\n",
    "            data_row = [td.get_text(strip=True) for td in tr.find_all(\"td\")]\n",
    "            if data_row[0] in CUSIPs: date_price_info[data_row[0]] = data_row[7]\n",
    "        all_data[date] = date_price_info\n",
    "        \n",
    "prices_df = pd.DataFrame(data=all_data).transpose().rename_axis(\"Date\").dropna(axis=0)\n",
    "for col in prices_df.columns:\n",
    "    prices_df[col] = pd.to_numeric(prices_df[col])\n",
    "prices_df"
   ]
  },
  {
   "cell_type": "code",
   "execution_count": null,
   "id": "0d329089",
   "metadata": {},
   "outputs": [],
   "source": [
    "PRICE = 89.9063\n",
    "ISSUE = datetime.datetime(2009, 2, 17)\n",
    "RATE = 3.500\n",
    "MATURITY = datetime.datetime(2039, 2, 15)\n",
    "SETTLEMENT = datetime.datetime(2025, 6, 27)"
   ]
  },
  {
   "cell_type": "code",
   "execution_count": null,
   "id": "ac54f3fb",
   "metadata": {},
   "outputs": [
    {
     "data": {
      "text/plain": [
       "4.496087"
      ]
     },
     "execution_count": 5,
     "metadata": {},
     "output_type": "execute_result"
    }
   ],
   "source": [
    "USTs(None, None).get_coupon_ytm(PRICE, ISSUE, MATURITY, SETTLEMENT, RATE, dirty=False)"
   ]
  },
  {
   "cell_type": "code",
   "execution_count": null,
   "id": "6c1ea948",
   "metadata": {},
   "outputs": [
    {
     "data": {
      "text/plain": [
       "4.497986422899381"
      ]
     },
     "execution_count": 6,
     "metadata": {},
     "output_type": "execute_result"
    }
   ],
   "source": [
    "import rateslib as rl\n",
    "bond = rl.FixedRateBond(\n",
    "    effective=ISSUE,\n",
    "    termination=MATURITY,\n",
    "    fixed_rate = RATE,\n",
    "    spec=\"us_gb\"  # US Government Bond\n",
    ")\n",
    "rateslib = bond.ytm(price=PRICE, settlement=SETTLEMENT)\n",
    "rateslib"
   ]
  }
 ],
 "metadata": {
  "kernelspec": {
   "display_name": "Python 3",
   "language": "python",
   "name": "python3"
  },
  "language_info": {
   "codemirror_mode": {
    "name": "ipython",
    "version": 3
   },
   "file_extension": ".py",
   "mimetype": "text/x-python",
   "name": "python",
   "nbconvert_exporter": "python",
   "pygments_lexer": "ipython3",
   "version": "3.12.1"
  }
 },
 "nbformat": 4,
 "nbformat_minor": 5
}
