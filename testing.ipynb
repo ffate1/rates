{
 "cells": [
  {
   "cell_type": "code",
   "execution_count": 1,
   "id": "3085cabb",
   "metadata": {},
   "outputs": [],
   "source": [
    "from USTs import USTs\n",
    "import datetime\n",
    "from datetime import timedelta\n",
    "from dateutil.relativedelta import relativedelta\n",
    "from scipy.optimize import newton\n",
    "import pandas_market_calendars as mcal\n",
    "import pandas as pd"
   ]
  },
  {
   "cell_type": "code",
   "execution_count": 11,
   "id": "0d329089",
   "metadata": {},
   "outputs": [],
   "source": [
    "PRICE = 99.0808021\n",
    "ISSUE = datetime.datetime(2024, 10, 20)\n",
    "MATURITY = datetime.datetime(2025, 4, 24)\n",
    "SETTLEMENT = datetime.datetime(2025, 2, 4)"
   ]
  },
  {
   "cell_type": "code",
   "execution_count": null,
   "id": "53e61f25",
   "metadata": {},
   "outputs": [
    {
     "data": {
      "text/plain": [
       "4.413953"
      ]
     },
     "execution_count": 12,
     "metadata": {},
     "output_type": "execute_result"
    }
   ],
   "source": [
    "bill_1 = USTs(auction_data= None, price_data=None).get_bill_BEYTM(price=PRICE,\n",
    "                                                                  issue_date=ISSUE,\n",
    "                                                                  maturity_date=MATURITY,\n",
    "                                                                  settlement_date=SETTLEMENT)\n",
    "bill_1 # Need to fix, less than 6 month and more than 6 month ytm are very different for identical settlement and maturity dates."
   ]
  },
  {
   "cell_type": "code",
   "execution_count": 13,
   "id": "6c1ea948",
   "metadata": {},
   "outputs": [
    {
     "data": {
      "text/plain": [
       "4.300459677867501"
      ]
     },
     "execution_count": 13,
     "metadata": {},
     "output_type": "execute_result"
    }
   ],
   "source": [
    "import rateslib as rl\n",
    "bill = rl.Bill(\n",
    "    effective=ISSUE,\n",
    "    termination=MATURITY,\n",
    "    spec=\"us_gbb\"  # US Government Bond\n",
    ")\n",
    "rateslib = bill.ytm(price=PRICE, settlement=SETTLEMENT)\n",
    "rateslib"
   ]
  }
 ],
 "metadata": {
  "kernelspec": {
   "display_name": "Python 3",
   "language": "python",
   "name": "python3"
  },
  "language_info": {
   "codemirror_mode": {
    "name": "ipython",
    "version": 3
   },
   "file_extension": ".py",
   "mimetype": "text/x-python",
   "name": "python",
   "nbconvert_exporter": "python",
   "pygments_lexer": "ipython3",
   "version": "3.12.1"
  }
 },
 "nbformat": 4,
 "nbformat_minor": 5
}
