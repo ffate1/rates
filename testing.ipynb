{
 "cells": [
  {
   "cell_type": "code",
   "execution_count": 83,
   "id": "3085cabb",
   "metadata": {},
   "outputs": [],
   "source": [
    "from USTs import USTs\n",
    "import datetime\n",
    "from datetime import timedelta\n",
    "from dateutil.relativedelta import relativedelta\n",
    "from scipy.optimize import newton\n",
    "import pandas_market_calendars as mcal\n",
    "import pandas as pd\n",
    "import numpy as np"
   ]
  },
  {
   "cell_type": "code",
   "execution_count": 84,
   "id": "cb457929",
   "metadata": {},
   "outputs": [
    {
     "data": {
      "text/plain": [
       "8.237"
      ]
     },
     "execution_count": 84,
     "metadata": {},
     "output_type": "execute_result"
    }
   ],
   "source": [
    "# Bill pricing\n",
    "issue_date = datetime.date(2025, 2, 4)\n",
    "maturity_date = datetime.date(2025, 4, 24)\n",
    "\n",
    "bill_1 = USTs(auction_data= None, price_data=None).get_bill_discount_rate(price=99.0808021,\n",
    "                                                                          issue_date=issue_date,\n",
    "                                                                          maturity_date=maturity_date)\n",
    "bill_1\n",
    "issue_date = datetime.date(2025, 2, 4)\n",
    "maturity_date = datetime.date(2025, 4, 24)\n",
    "bill_2 = USTs(auction_data= None, price_data=None).get_bill_BEYTM(price=99.0808021,\n",
    "                                                                          issue_date=issue_date,\n",
    "                                                                          maturity_date=maturity_date)\n",
    "bill_2\n",
    "issue_date = datetime.date(1990, 6, 7)\n",
    "maturity_date = datetime.date(1991, 6, 6)\n",
    "bill_2 = USTs(auction_data= None, price_data=None).get_bill_BEYTM(price=92.265000,\n",
    "                                                                          issue_date=issue_date,\n",
    "                                                                          maturity_date=maturity_date)\n",
    "bill_2"
   ]
  },
  {
   "cell_type": "code",
   "execution_count": 85,
   "id": "74e99622",
   "metadata": {},
   "outputs": [],
   "source": [
    "holiday_array = mcal.get_calendar('NYSE').holidays().holidays\n",
    "start, end = datetime.date(1990, 1, 1), datetime.date(2060, 1, 1)\n",
    "holidays_list = [pd.to_datetime(np_date).date() for np_date in holiday_array]\n",
    "holidays = [holiday for holiday in holidays_list if start < holiday < end]\n",
    "\n",
    "def adjust_for_bad_day(date: datetime.date) -> datetime.date: # type: ignore\n",
    "    while date.weekday() in [5, 6] or date in holidays:\n",
    "        date = date + timedelta(days=1)\n",
    "    return date\n",
    "\n",
    "def get_dates_and_cashflows(issue_date: datetime.date,\n",
    "                            maturity_date: datetime.date,\n",
    "                            coupon: float,\n",
    "                            FV: int = 100):\n",
    "    payment_dates = [maturity_date]\n",
    "    current_date = maturity_date\n",
    "    while current_date > issue_date:\n",
    "        current_date = maturity_date - relativedelta(months=len(payment_dates) * 6)\n",
    "        if current_date > issue_date:\n",
    "            payment_dates.append(current_date)\n",
    "    payment_dates = sorted(payment_dates)\n",
    "    \n",
    "    coupon_amt = coupon / 2\n",
    "    return_list = [(issue_date, 0.0)] # Issue date\n",
    "    for date in payment_dates[:-1]:\n",
    "        return_list.append((date, coupon_amt))\n",
    "    return_list.append((payment_dates[-1], coupon_amt + FV)) # Maturity with principal repayment\n",
    "    return return_list\n",
    "\n",
    "def calculate_accrued_interest(dates_and_cashflows, as_of_date) -> float:\n",
    "    for date, _ in dates_and_cashflows:\n",
    "        if date > as_of_date:\n",
    "            next_coupon_date = date\n",
    "            previous_index = dates_and_cashflows.index((date, _)) - 1\n",
    "            last_date = dates_and_cashflows[previous_index][0]\n",
    "            break\n",
    "\n",
    "    days_in_period = (next_coupon_date - last_date).days\n",
    "    days_accrued = (as_of_date - last_date).days\n",
    "    if days_in_period == 0:\n",
    "        return 0.0\n",
    "\n",
    "    coupon_amt = dates_and_cashflows[1][1]\n",
    "    accrued = coupon_amt * days_accrued / days_in_period\n",
    "    return accrued\n",
    "\n",
    "def calculate_bond_price(issue_date: datetime.date,\n",
    "                         maturity_date: datetime.date,\n",
    "                         as_of_date: datetime.date,\n",
    "                         coupon: float,\n",
    "                         discount_rate: float,\n",
    "                         dirty: bool = False) -> float:\n",
    "    \n",
    "    dates_and_cashflows = get_dates_and_cashflows(issue_date=issue_date,\n",
    "                                                      maturity_date=maturity_date,\n",
    "                                                      coupon=coupon)\n",
    "    for date, _ in dates_and_cashflows:\n",
    "        if date > as_of_date:\n",
    "            first_pmt_date = adjust_for_bad_day(date)\n",
    "            previous_index = dates_and_cashflows.index((date, _)) - 1\n",
    "            last_date = adjust_for_bad_day(dates_and_cashflows[previous_index][0])\n",
    "            first_pmt_period = (first_pmt_date - last_date).days\n",
    "            time_to_pmt = (first_pmt_date - as_of_date).days\n",
    "            break\n",
    "    first_period_fraction = time_to_pmt / first_pmt_period\n",
    "\n",
    "    PV = 0\n",
    "    exponent = first_period_fraction\n",
    "    previous_date = None\n",
    "    for unadjusted_date, cashflow in dates_and_cashflows:\n",
    "        date = adjust_for_bad_day(unadjusted_date)\n",
    "        if date > as_of_date:\n",
    "            if previous_date:\n",
    "                days_in_period = (date - previous_date).days\n",
    "                exponent += (days_in_period / (365.25 / 2))\n",
    "            pmt_pv = cashflow / ((1 + discount_rate/2) ** exponent)\n",
    "            PV += pmt_pv\n",
    "            previous_date = date\n",
    "\n",
    "    if not dirty: # Clean price\n",
    "        accrued = calculate_accrued_interest(dates_and_cashflows=dates_and_cashflows,\n",
    "                                             as_of_date=as_of_date)\n",
    "        print(f\"Accrued: {accrued}\")\n",
    "        PV -= accrued\n",
    "    return PV\n",
    "\n",
    "def error_function(discount_rate: float,\n",
    "                   price: float,\n",
    "                   issue_date: datetime.date,\n",
    "                   maturity_date: datetime.date,\n",
    "                   as_of_date: datetime.date,\n",
    "                   coupon: float,\n",
    "                   dirty: bool=False):\n",
    "    calculated_price = calculate_bond_price(issue_date=issue_date,\n",
    "                                            maturity_date=maturity_date,\n",
    "                                            discount_rate=discount_rate,\n",
    "                                            coupon=coupon,\n",
    "                                            as_of_date=as_of_date,\n",
    "                                            dirty=dirty)\n",
    "    error = price - calculated_price\n",
    "    return error\n",
    "\n",
    "\n",
    "def get_coupon_ytm(price: float, \n",
    "            issue_date: datetime.date,\n",
    "            maturity_date: datetime.date,\n",
    "            as_of_date: datetime.date,\n",
    "            coupon: float,\n",
    "            dirty: bool=False):\n",
    "    guess = coupon / 100\n",
    "\n",
    "    try:\n",
    "        ytm = newton(\n",
    "            func=error_function,\n",
    "            x0=guess,\n",
    "            args=(price, issue_date, maturity_date, as_of_date, coupon, dirty)\n",
    "        )\n",
    "        return round(float(ytm * 100), 6)\n",
    "    except RuntimeError:\n",
    "        return None"
   ]
  },
  {
   "cell_type": "code",
   "execution_count": 121,
   "id": "0d329089",
   "metadata": {},
   "outputs": [],
   "source": [
    "PRICE = 98.125\n",
    "ISSUE = datetime.datetime(2025, 5, 15)\n",
    "MATURITY = datetime.datetime(2055, 5, 15)\n",
    "RATE = 4.750\n",
    "SETTLEMENT = datetime.datetime(2025, 6, 24)"
   ]
  },
  {
   "cell_type": "code",
   "execution_count": 122,
   "id": "45b2c2dd",
   "metadata": {},
   "outputs": [
    {
     "data": {
      "text/plain": [
       "61"
      ]
     },
     "execution_count": 122,
     "metadata": {},
     "output_type": "execute_result"
    }
   ],
   "source": [
    "len(get_dates_and_cashflows(ISSUE.date(), MATURITY.date(), RATE))"
   ]
  },
  {
   "cell_type": "code",
   "execution_count": 123,
   "id": "120e92f5",
   "metadata": {},
   "outputs": [
    {
     "name": "stdout",
     "output_type": "stream",
     "text": [
      "Accrued: 0.5163043478260869\n",
      "Accrued: 0.5163043478260869\n",
      "Accrued: 0.5163043478260869\n",
      "Accrued: 0.5163043478260869\n",
      "Accrued: 0.5163043478260869\n",
      "4.87091\n"
     ]
    }
   ],
   "source": [
    "test = get_coupon_ytm(price=PRICE,\n",
    "        issue_date=ISSUE.date(),\n",
    "        maturity_date=MATURITY.date(),\n",
    "        as_of_date=SETTLEMENT.date(),\n",
    "        coupon=RATE)\n",
    "print(test)"
   ]
  },
  {
   "cell_type": "code",
   "execution_count": 124,
   "id": "6c1ea948",
   "metadata": {},
   "outputs": [
    {
     "name": "stdout",
     "output_type": "stream",
     "text": [
      "4.869411132738167\n"
     ]
    }
   ],
   "source": [
    "import rateslib as rl\n",
    "bond = rl.FixedRateBond(\n",
    "    effective=ISSUE,\n",
    "    termination=MATURITY,\n",
    "    fixed_rate=RATE,\n",
    "    spec=\"us_gb\"  # US Government Bond\n",
    ")\n",
    "rateslib = bond.ytm(price=PRICE, settlement=SETTLEMENT, dirty=False)\n",
    "print(rateslib)"
   ]
  },
  {
   "cell_type": "code",
   "execution_count": 125,
   "id": "c79649f2",
   "metadata": {},
   "outputs": [
    {
     "data": {
      "text/plain": [
       "0.5163043478260869"
      ]
     },
     "execution_count": 125,
     "metadata": {},
     "output_type": "execute_result"
    }
   ],
   "source": [
    "bond.accrued(settlement=SETTLEMENT)"
   ]
  },
  {
   "cell_type": "code",
   "execution_count": 126,
   "id": "c2047a89",
   "metadata": {},
   "outputs": [
    {
     "name": "stdout",
     "output_type": "stream",
     "text": [
      "4.867618\n"
     ]
    }
   ],
   "source": [
    "current = USTs(auction_data=None,price_data=None).get_coupon_ytm(price=PRICE, issue_date=ISSUE.date(),\n",
    "                    maturity_date=MATURITY.date(),\n",
    "                    as_of_date=SETTLEMENT.date(),\n",
    "                    coupon=RATE)\n",
    "print(current)"
   ]
  },
  {
   "cell_type": "code",
   "execution_count": 127,
   "id": "e8a7c0d9",
   "metadata": {},
   "outputs": [
    {
     "data": {
      "text/plain": [
       "0.14988672618336807"
      ]
     },
     "execution_count": 127,
     "metadata": {},
     "output_type": "execute_result"
    }
   ],
   "source": [
    "abs(rateslib - test) *100"
   ]
  },
  {
   "cell_type": "code",
   "execution_count": 128,
   "id": "77dfce7b",
   "metadata": {},
   "outputs": [
    {
     "data": {
      "text/plain": [
       "0.1793132738166392"
      ]
     },
     "execution_count": 128,
     "metadata": {},
     "output_type": "execute_result"
    }
   ],
   "source": [
    "abs(rateslib - current) * 100"
   ]
  }
 ],
 "metadata": {
  "kernelspec": {
   "display_name": "Python 3",
   "language": "python",
   "name": "python3"
  },
  "language_info": {
   "codemirror_mode": {
    "name": "ipython",
    "version": 3
   },
   "file_extension": ".py",
   "mimetype": "text/x-python",
   "name": "python",
   "nbconvert_exporter": "python",
   "pygments_lexer": "ipython3",
   "version": "3.12.1"
  }
 },
 "nbformat": 4,
 "nbformat_minor": 5
}
