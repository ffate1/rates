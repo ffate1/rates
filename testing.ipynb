{
 "cells": [
  {
   "cell_type": "code",
   "execution_count": 4,
   "id": "3085cabb",
   "metadata": {},
   "outputs": [],
   "source": [
    "from USTs import USTs\n",
    "import datetime\n",
    "from datetime import timedelta\n",
    "from typing import List\n",
    "from dateutil.relativedelta import relativedelta"
   ]
  },
  {
   "cell_type": "code",
   "execution_count": 5,
   "id": "cb457929",
   "metadata": {},
   "outputs": [
    {
     "data": {
      "text/plain": [
       "8.237"
      ]
     },
     "execution_count": 5,
     "metadata": {},
     "output_type": "execute_result"
    }
   ],
   "source": [
    "# Bill pricing\n",
    "issue_date = datetime.date(2025, 2, 4)\n",
    "maturity_date = datetime.date(2025, 4, 24)\n",
    "\n",
    "bill_1 = USTs(auction_data= None, price_data=None).get_bill_discount_rate(price=99.0808021,\n",
    "                                                                          issue_date=issue_date,\n",
    "                                                                          maturity_date=maturity_date)\n",
    "bill_1\n",
    "issue_date = datetime.date(2025, 2, 4)\n",
    "maturity_date = datetime.date(2025, 4, 24)\n",
    "bill_2 = USTs(auction_data= None, price_data=None).get_bill_BEYTM(price=99.0808021,\n",
    "                                                                          issue_date=issue_date,\n",
    "                                                                          maturity_date=maturity_date)\n",
    "bill_2\n",
    "issue_date = datetime.date(1990, 6, 7)\n",
    "maturity_date = datetime.date(1991, 6, 6)\n",
    "bill_2 = USTs(auction_data= None, price_data=None).get_bill_BEYTM(price=92.265000,\n",
    "                                                                          issue_date=issue_date,\n",
    "                                                                          maturity_date=maturity_date)\n",
    "bill_2"
   ]
  },
  {
   "cell_type": "code",
   "execution_count": 23,
   "id": "81ff9672",
   "metadata": {},
   "outputs": [
    {
     "data": {
      "text/plain": [
       "4.032433"
      ]
     },
     "execution_count": 23,
     "metadata": {},
     "output_type": "execute_result"
    }
   ],
   "source": [
    "issue_date = datetime.date(2011, 11, 15)\n",
    "maturity_date = datetime.date(2041, 11, 15)\n",
    "as_of_date = datetime.date(2024, 9, 22)\n",
    "\n",
    "def adjust_for_weekend(date: datetime.date) -> datetime.date: # type: ignore\n",
    "    if date.weekday() in [5, 6]:\n",
    "        date = date + timedelta(days=(7 - date.weekday()))\n",
    "    return date\n",
    "\n",
    "def get_coupon_dates(issue_date, maturity_date) -> List[datetime.date]: # type: ignore\n",
    "    payment_set = []\n",
    "    payment_set.append(maturity_date)\n",
    "    current_date = maturity_date\n",
    "\n",
    "    while current_date > issue_date:\n",
    "        current_date = maturity_date - relativedelta(months=len(payment_set) * 6)\n",
    "        current_date = adjust_for_weekend(current_date)\n",
    "        if current_date > issue_date:\n",
    "            payment_set.append(current_date)\n",
    "    payment_set.sort()\n",
    "    return payment_set\n",
    "\n",
    "def get_dates_and_cashflows(issue_date: datetime.date, maturity_date: datetime.date, as_of_date: datetime.date, coupon: float, get_days: bool = True, FV: int = 100):\n",
    "    dates = get_coupon_dates(issue_date=issue_date, maturity_date=maturity_date)\n",
    "    coupon_amt = coupon / 2\n",
    "    return_list = list()\n",
    "    if get_days:\n",
    "        days = [(date - as_of_date).days for date in dates]\n",
    "        for day in days[:-1]:\n",
    "            return_list.append((day, coupon_amt))\n",
    "        return_list.append((days[-1], coupon_amt + FV))\n",
    "    else:\n",
    "        for date in dates[:-1]:\n",
    "            return_list.append((date, coupon_amt))\n",
    "        return_list.append((dates[-1], coupon_amt + FV))\n",
    "    return return_list\n",
    "\n",
    "# Calculating bond price\n",
    "def get_next_coupon_days(days_and_cashflows) -> int:\n",
    "    for days, cashflow in days_and_cashflows:\n",
    "        if days > 0:\n",
    "            day = days\n",
    "            return day\n",
    "\n",
    "def get_last_coupon_days(days_and_cashflows, issue_date) -> int:\n",
    "    current_day = -100000\n",
    "    for day, cashflows in days_and_cashflows:\n",
    "        if day < 0:\n",
    "            if day > current_day:\n",
    "                current_day = day\n",
    "    if current_day == -100000:\n",
    "        current_day = (issue_date - datetime.datetime.now().date()).days\n",
    "    return current_day\n",
    "\n",
    "def get_accrued(days_and_cashflows, coupon, issue_date) -> float:\n",
    "    next_payment = get_next_coupon_days(days_and_cashflows=days_and_cashflows)\n",
    "    last_payment = get_last_coupon_days(days_and_cashflows=days_and_cashflows, issue_date=issue_date)\n",
    "    accrued = coupon / 2 * abs(last_payment) / (next_payment - last_payment)\n",
    "    return accrued\n",
    "\n",
    "def calculate_bond_price(issue_date: datetime.date,\n",
    "                         maturity_date: datetime.date,\n",
    "                         as_of_date: datetime.date,\n",
    "                         coupon: float,\n",
    "                         discount_rate: float,\n",
    "                         dirty: bool = False) -> float:\n",
    "    \n",
    "    days_and_cashflows = get_dates_and_cashflows(issue_date=issue_date,\n",
    "                                                 maturity_date=maturity_date,\n",
    "                                                 as_of_date=as_of_date,\n",
    "                                                 coupon=coupon,\n",
    "                                                 get_days=True,\n",
    "                                                 FV=100)\n",
    "    # Dirty price\n",
    "    PV = 0\n",
    "    DISCOUNT_RATE = discount_rate / 100\n",
    "    for day, cashflow in days_and_cashflows:\n",
    "        if day > 0:\n",
    "            pmt_value = cashflow/((1 + DISCOUNT_RATE)**(day/183))\n",
    "            PV += pmt_value\n",
    "    \n",
    "    if not dirty:\n",
    "        accrued = get_accrued(days_and_cashflows=days_and_cashflows, coupon=coupon, issue_date=issue_date)\n",
    "        PV -= accrued\n",
    "    return PV\n",
    "\n",
    "def error_function(discount_rate: float, days_and_cashflows: List[tuple], price: float):\n",
    "    calculated_price = calculate_bond_price(issue_date=issue_date,\n",
    "                                            maturity_date=maturity_date,\n",
    "                                            discount_rate=discount_rate,\n",
    "                                            coupon=3.125,\n",
    "                                            as_of_date=as_of_date,\n",
    "                                            dirty=False)\n",
    "    error = price - calculated_price\n",
    "    return error\n",
    "\n",
    "from scipy.optimize import newton\n",
    "def get_ytm(price, coupon, issue_date, maturity_date):\n",
    "    days_and_cashflows = get_dates_and_cashflows(issue_date, maturity_date, as_of_date, coupon, get_days=True)\n",
    "    guess = coupon / 2 / 100\n",
    "\n",
    "    try:\n",
    "        ytm = newton(\n",
    "            func=error_function,\n",
    "            x0=guess,\n",
    "            args=(days_and_cashflows, price)\n",
    "        )\n",
    "        return round(float(ytm * 2), 6)\n",
    "    except RuntimeError:\n",
    "        return None\n",
    "\n",
    "get_ytm(88.9375, 3.125, issue_date, maturity_date)"
   ]
  },
  {
   "cell_type": "code",
   "execution_count": 22,
   "id": "120e92f5",
   "metadata": {},
   "outputs": [
    {
     "data": {
      "text/plain": [
       "101.74685124241614"
      ]
     },
     "execution_count": 22,
     "metadata": {},
     "output_type": "execute_result"
    }
   ],
   "source": [
    "calculate_bond_price(issue_date=issue_date,\n",
    "                     maturity_date=maturity_date,\n",
    "                     as_of_date=as_of_date,\n",
    "                     coupon=3.125,\n",
    "                     discount_rate=1.5,\n",
    "                     dirty=False)"
   ]
  },
  {
   "cell_type": "code",
   "execution_count": 24,
   "id": "6c1ea948",
   "metadata": {},
   "outputs": [
    {
     "data": {
      "text/plain": [
       "4.024213842228193"
      ]
     },
     "execution_count": 24,
     "metadata": {},
     "output_type": "execute_result"
    }
   ],
   "source": [
    "import rateslib as rl\n",
    "\n",
    "bond = rl.FixedRateBond(\n",
    "    effective=datetime.datetime(2011, 11, 15),\n",
    "    termination=datetime.datetime(2041, 11, 15),\n",
    "    fixed_rate=3.125,\n",
    "    spec=\"us_gb\"  # US Government Bond\n",
    ")\n",
    "bond.ytm(price=88.9375, settlement=datetime.datetime(2024, 9, 23), dirty=False)"
   ]
  }
 ],
 "metadata": {
  "kernelspec": {
   "display_name": "Python 3",
   "language": "python",
   "name": "python3"
  },
  "language_info": {
   "codemirror_mode": {
    "name": "ipython",
    "version": 3
   },
   "file_extension": ".py",
   "mimetype": "text/x-python",
   "name": "python",
   "nbconvert_exporter": "python",
   "pygments_lexer": "ipython3",
   "version": "3.12.1"
  }
 },
 "nbformat": 4,
 "nbformat_minor": 5
}
