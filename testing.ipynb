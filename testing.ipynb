{
 "cells": [
  {
   "cell_type": "code",
   "execution_count": 6,
   "id": "3085cabb",
   "metadata": {},
   "outputs": [],
   "source": [
    "from USTs import USTs\n",
    "import datetime\n",
    "from dateutil.relativedelta import relativedelta\n",
    "from scipy.optimize import newton\n",
    "import pandas_market_calendars as mcal\n",
    "import pandas as pd\n",
    "from pandas import Timestamp\n",
    "import requests\n",
    "from bs4 import BeautifulSoup"
   ]
  },
  {
   "cell_type": "code",
   "execution_count": 7,
   "id": "0d329089",
   "metadata": {},
   "outputs": [],
   "source": [
    "PRICE = 89.9063\n",
    "ISSUE = datetime.datetime(2009, 2, 17)\n",
    "RATE = 3.500\n",
    "MATURITY = datetime.datetime(2039, 2, 15)\n",
    "SETTLEMENT = datetime.datetime(2025, 6, 27)"
   ]
  },
  {
   "cell_type": "code",
   "execution_count": 8,
   "id": "ac54f3fb",
   "metadata": {},
   "outputs": [
    {
     "data": {
      "text/plain": [
       "4.496087"
      ]
     },
     "execution_count": 8,
     "metadata": {},
     "output_type": "execute_result"
    }
   ],
   "source": [
    "USTs(None, None).get_coupon_ytm(PRICE, ISSUE, MATURITY, SETTLEMENT, RATE, dirty=False)"
   ]
  },
  {
   "cell_type": "code",
   "execution_count": 9,
   "id": "6c1ea948",
   "metadata": {},
   "outputs": [
    {
     "data": {
      "text/plain": [
       "4.497986422899381"
      ]
     },
     "execution_count": 9,
     "metadata": {},
     "output_type": "execute_result"
    }
   ],
   "source": [
    "import rateslib as rl\n",
    "bond = rl.FixedRateBond(\n",
    "    effective=ISSUE,\n",
    "    termination=MATURITY,\n",
    "    fixed_rate = RATE,\n",
    "    spec=\"us_gb\"  # US Government Bond\n",
    ")\n",
    "rateslib = bond.ytm(price=PRICE, settlement=SETTLEMENT)\n",
    "rateslib"
   ]
  }
 ],
 "metadata": {
  "kernelspec": {
   "display_name": "Python 3",
   "language": "python",
   "name": "python3"
  },
  "language_info": {
   "codemirror_mode": {
    "name": "ipython",
    "version": 3
   },
   "file_extension": ".py",
   "mimetype": "text/x-python",
   "name": "python",
   "nbconvert_exporter": "python",
   "pygments_lexer": "ipython3",
   "version": "3.12.1"
  }
 },
 "nbformat": 4,
 "nbformat_minor": 5
}
