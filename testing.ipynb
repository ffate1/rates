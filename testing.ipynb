{
 "cells": [
  {
   "cell_type": "code",
   "execution_count": 1,
   "id": "3085cabb",
   "metadata": {},
   "outputs": [],
   "source": [
    "from USTs import USTs\n",
    "import datetime\n",
    "from dateutil.relativedelta import relativedelta\n",
    "from scipy.optimize import newton\n",
    "import pandas_market_calendars as mcal\n",
    "import pandas as pd"
   ]
  },
  {
   "cell_type": "code",
   "execution_count": 2,
   "id": "0d329089",
   "metadata": {},
   "outputs": [],
   "source": [
    "PRICE = 61.8125\n",
    "ISSUE = datetime.datetime(2020, 6, 1)\n",
    "RATE = 1.125\n",
    "MATURITY = datetime.datetime(2040, 5, 15)\n",
    "SETTLEMENT = datetime.datetime(2025, 6, 27)\n",
    "YTM = 4.729779"
   ]
  },
  {
   "cell_type": "code",
   "execution_count": 3,
   "id": "1c50357e",
   "metadata": {},
   "outputs": [],
   "source": [
    "row = pd.DataFrame([{'End of day': PRICE,\n",
    "           'Maturity date': MATURITY.date(),\n",
    "           'Issue date': ISSUE.date(),\n",
    "           'EOD YTM': YTM,\n",
    "           'Rate': RATE}])"
   ]
  },
  {
   "cell_type": "code",
   "execution_count": 4,
   "id": "53e61f25",
   "metadata": {},
   "outputs": [
    {
     "data": {
      "text/plain": [
       "12.988982693910245"
      ]
     },
     "execution_count": 4,
     "metadata": {},
     "output_type": "execute_result"
    }
   ],
   "source": [
    "USTs(auction_data= None, price_data=None)._get_duration(row=row, settlement_date=SETTLEMENT.date())"
   ]
  },
  {
   "cell_type": "code",
   "execution_count": 5,
   "id": "6c1ea948",
   "metadata": {},
   "outputs": [
    {
     "data": {
      "text/plain": [
       "np.float64(12.995524096498526)"
      ]
     },
     "execution_count": 5,
     "metadata": {},
     "output_type": "execute_result"
    }
   ],
   "source": [
    "import rateslib as rl\n",
    "bond = rl.FixedRateBond(\n",
    "    effective=ISSUE,\n",
    "    termination=MATURITY,\n",
    "    fixed_rate = RATE,\n",
    "    spec=\"us_gb\"  # US Government Bond\n",
    ")\n",
    "rateslib = bond.duration(ytm=YTM, settlement=SETTLEMENT, metric='modified')\n",
    "rateslib"
   ]
  }
 ],
 "metadata": {
  "kernelspec": {
   "display_name": "Python 3",
   "language": "python",
   "name": "python3"
  },
  "language_info": {
   "codemirror_mode": {
    "name": "ipython",
    "version": 3
   },
   "file_extension": ".py",
   "mimetype": "text/x-python",
   "name": "python",
   "nbconvert_exporter": "python",
   "pygments_lexer": "ipython3",
   "version": "3.12.1"
  }
 },
 "nbformat": 4,
 "nbformat_minor": 5
}
