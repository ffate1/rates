{
 "cells": [
  {
   "cell_type": "code",
   "execution_count": 2,
   "id": "21e12678",
   "metadata": {},
   "outputs": [],
   "source": [
    "from datetime import datetime\n",
    "from bs4 import BeautifulSoup\n",
    "import pandas as pd\n",
    "import requests\n",
    "payload = {\n",
    "    \"priceDate.month\": 6,\n",
    "    \"priceDate.day\": 17,\n",
    "    \"priceDate.year\": 2025,\n",
    "    \"submit\": \"submit\"\n",
    "}\n",
    "\n",
    "url = \"https://www.treasurydirect.gov/GA-FI/FedInvest/selectSecurityPriceDate\"\n",
    "\n",
    "try:\n",
    "    response = requests.post(url=url, data=payload, timeout=30)\n",
    "    response.raise_for_status()\n",
    "\n",
    "except requests.exceptions.RequestException as e:\n",
    "    print(f\"Error occured: {e}\")"
   ]
  },
  {
   "cell_type": "code",
   "execution_count": 2,
   "id": "d754b6af",
   "metadata": {},
   "outputs": [],
   "source": [
    "output = BeautifulSoup(response.text, \"html.parser\")\n",
    "table = output.find(\"table\", class_=\"data1\") # Getting table from webpage\n",
    "\n",
    "header_row = table.find_all(\"th\")\n",
    "headers = [th.get_text(strip=True) for th in header_row]"
   ]
  },
  {
   "cell_type": "code",
   "execution_count": 9,
   "id": "75c48029",
   "metadata": {},
   "outputs": [],
   "source": [
    "data_rows = table.find_all(\"tr\")[1:]\n",
    "all_rows = list()\n",
    "for tr in data_rows:\n",
    "    row_data = [td.get_text(strip=True) for td in tr.find_all(\"td\")]\n",
    "    all_rows.append(row_data)\n",
    "\n",
    "df = pd.DataFrame(data=all_rows, columns=headers)"
   ]
  },
  {
   "cell_type": "code",
   "execution_count": 16,
   "id": "3085cabb",
   "metadata": {},
   "outputs": [
    {
     "data": {
      "text/plain": [
       "datetime.date(2025, 6, 17)"
      ]
     },
     "execution_count": 16,
     "metadata": {},
     "output_type": "execute_result"
    }
   ],
   "source": [
    "from datetime import timedelta\n",
    "\n",
    "datetime.now().date() - timedelta(days=2)\n"
   ]
  }
 ],
 "metadata": {
  "kernelspec": {
   "display_name": "Python 3",
   "language": "python",
   "name": "python3"
  },
  "language_info": {
   "codemirror_mode": {
    "name": "ipython",
    "version": 3
   },
   "file_extension": ".py",
   "mimetype": "text/x-python",
   "name": "python",
   "nbconvert_exporter": "python",
   "pygments_lexer": "ipython3",
   "version": "3.12.1"
  }
 },
 "nbformat": 4,
 "nbformat_minor": 5
}
