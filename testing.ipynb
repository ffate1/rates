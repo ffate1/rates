{
 "cells": [
  {
   "cell_type": "code",
   "execution_count": 36,
   "id": "3085cabb",
   "metadata": {},
   "outputs": [],
   "source": [
    "from USTs import USTs\n",
    "import datetime\n",
    "from datetime import timedelta\n",
    "import QuantLib as ql\n",
    "import numpy as np\n",
    "from typing import List\n",
    "import calendar\n",
    "from dateutil.relativedelta import relativedelta\n",
    "import math"
   ]
  },
  {
   "cell_type": "code",
   "execution_count": 2,
   "id": "cb457929",
   "metadata": {},
   "outputs": [
    {
     "data": {
      "text/plain": [
       "0.8"
      ]
     },
     "execution_count": 2,
     "metadata": {},
     "output_type": "execute_result"
    }
   ],
   "source": [
    "# Bill pricing\n",
    "issue_date = datetime.date(2004, 1, 22)\n",
    "maturity_date = datetime.date(2004, 2, 19)\n",
    "\n",
    "bill_1 = USTs(auction_data= None, price_data=None).get_bill_discount_rate(price=99.937778,\n",
    "                                                                          issue_date=issue_date,\n",
    "                                                                          maturity_date=maturity_date)\n",
    "bill_1"
   ]
  },
  {
   "cell_type": "code",
   "execution_count": 3,
   "id": "dd307934",
   "metadata": {},
   "outputs": [
    {
     "data": {
      "text/plain": [
       "0.811"
      ]
     },
     "execution_count": 3,
     "metadata": {},
     "output_type": "execute_result"
    }
   ],
   "source": [
    "issue_date = datetime.date(2004, 1, 22)\n",
    "maturity_date = datetime.date(2004, 2, 19)\n",
    "bill_2 = USTs(auction_data= None, price_data=None).get_bill_BEYTM(price=99.937778,\n",
    "                                                                          issue_date=issue_date,\n",
    "                                                                          maturity_date=maturity_date)\n",
    "bill_2"
   ]
  },
  {
   "cell_type": "code",
   "execution_count": 4,
   "id": "dfa56e13",
   "metadata": {},
   "outputs": [
    {
     "data": {
      "text/plain": [
       "8.237"
      ]
     },
     "execution_count": 4,
     "metadata": {},
     "output_type": "execute_result"
    }
   ],
   "source": [
    "issue_date = datetime.date(1990, 6, 7)\n",
    "maturity_date = datetime.date(1991, 6, 6)\n",
    "bill_2 = USTs(auction_data= None, price_data=None).get_bill_BEYTM(price=92.265000,\n",
    "                                                                          issue_date=issue_date,\n",
    "                                                                          maturity_date=maturity_date)\n",
    "bill_2"
   ]
  },
  {
   "cell_type": "code",
   "execution_count": null,
   "id": "81ff9672",
   "metadata": {},
   "outputs": [],
   "source": [
    "issue_date = datetime.date(2025, 5, 15)\n",
    "maturity_date = datetime.date(2035, 5, 15)\n",
    "\n",
    "def adjust_for_weekend(date: datetime.date) -> datetime.date: # type: ignore\n",
    "    if date.weekday() in [5, 6]:\n",
    "        date = date + timedelta(days=(7 - date.weekday()))\n",
    "    return date\n",
    "\n",
    "def get_coupon_dates(issue_date, maturity_date) -> List[datetime.date]: # type: ignore\n",
    "    payment_set = []\n",
    "    payment_set.append(maturity_date)\n",
    "    current_date = maturity_date\n",
    "\n",
    "    while current_date > issue_date:\n",
    "        current_date = maturity_date - relativedelta(months=len(payment_set) * 6)\n",
    "        current_date = adjust_for_weekend(current_date)\n",
    "        if current_date > issue_date:\n",
    "            payment_set.append(current_date)\n",
    "    payment_set.sort()\n",
    "    return payment_set\n",
    "def get_dates_and_cashflows(issue_date: datetime.date, maturity_date: datetime.date, coupon: float, get_days: bool = True, FV: int = 100):\n",
    "    dates = get_coupon_dates(issue_date=issue_date, maturity_date=maturity_date)\n",
    "    coupon_amt = coupon / 2\n",
    "    if get_days:\n",
    "        days = [(date - datetime.datetime.now().date()).days for date in dates]\n",
    "    return_list = list()\n",
    "    if get_days:\n",
    "        for day in days[:-1]:\n",
    "            if day > 0:\n",
    "                return_list.append((day, coupon_amt))\n",
    "        return_list.append((days[-1], coupon_amt + FV))\n",
    "    else:\n",
    "        for date in dates[:-1]:\n",
    "            return_list.append((date, coupon_amt))\n",
    "        return_list.append((dates[-1], coupon_amt + FV))\n",
    "    return return_list\n",
    "\n",
    "days_and_cashflows = get_dates_and_cashflows(issue_date=issue_date, maturity_date=maturity_date, coupon=4.25)\n",
    "\n",
    "# Calculating bond price\n",
    "def calculate_bond_price(days_and_cashflows: List[tuple], discount_rate: float):\n",
    "    PV = 0\n",
    "    DISCOUNT_RATE = discount_rate / 100\n",
    "    for day, cashflow in days_and_cashflows:\n",
    "        pmt_value = cashflow/((1 + DISCOUNT_RATE)**(day/183))\n",
    "        PV += pmt_value\n",
    "    return PV\n",
    "\n",
    "calculate_bond_price(days_and_cashflows=days_and_cashflows, discount_rate=2.125)\n",
    "\n",
    "def error_function(discount_rate: float, days_and_cashflows: List[tuple], actual_price: float):\n",
    "    calculated_price = calculate_bond_price(days_and_cashflows=days_and_cashflows, discount_rate=discount_rate)\n",
    "    error = actual_price - calculated_price\n",
    "    return error"
   ]
  },
  {
   "cell_type": "code",
   "execution_count": 76,
   "id": "c2d6bbc4",
   "metadata": {},
   "outputs": [
    {
     "data": {
      "text/plain": [
       "4.406176"
      ]
     },
     "execution_count": 76,
     "metadata": {},
     "output_type": "execute_result"
    }
   ],
   "source": [
    "from scipy.optimize import newton\n",
    "def get_ytm(actual_price, coupon, issue_date, maturity_date):\n",
    "    days_and_cashflows = get_dates_and_cashflows(issue_date, maturity_date, coupon, get_days=True)\n",
    "    guess = coupon / 2 / 100\n",
    "\n",
    "    try:\n",
    "        ytm = newton(\n",
    "            func=error_function,\n",
    "            x0=guess,\n",
    "            args=(days_and_cashflows, actual_price)\n",
    "        )\n",
    "        return round(float(ytm * 2), 6)\n",
    "    except RuntimeError:\n",
    "        return None\n",
    "\n",
    "get_ytm(99.28, 4.25, issue_date, maturity_date)"
   ]
  },
  {
   "cell_type": "code",
   "execution_count": 72,
   "id": "6c1ea948",
   "metadata": {},
   "outputs": [],
   "source": [
    "import rateslib as rl\n",
    "\n",
    "bond = rl.FixedRateBond(\n",
    "    effective=datetime.datetime(2025, 5, 15),\n",
    "    termination=datetime.datetime(2035, 5, 15),\n",
    "    fixed_rate=4.250,\n",
    "    spec=\"us_gb\"  # US Government Bond\n",
    ")"
   ]
  },
  {
   "cell_type": "code",
   "execution_count": 78,
   "id": "b4496b03",
   "metadata": {},
   "outputs": [
    {
     "data": {
      "text/plain": [
       "4.339818261472328"
      ]
     },
     "execution_count": 78,
     "metadata": {},
     "output_type": "execute_result"
    }
   ],
   "source": [
    "bond.ytm(price=99.28, settlement=datetime.datetime(2025, 6, 24), dirty=False)"
   ]
  }
 ],
 "metadata": {
  "kernelspec": {
   "display_name": "Python 3",
   "language": "python",
   "name": "python3"
  },
  "language_info": {
   "codemirror_mode": {
    "name": "ipython",
    "version": 3
   },
   "file_extension": ".py",
   "mimetype": "text/x-python",
   "name": "python",
   "nbconvert_exporter": "python",
   "pygments_lexer": "ipython3",
   "version": "3.12.1"
  }
 },
 "nbformat": 4,
 "nbformat_minor": 5
}
