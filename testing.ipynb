{
 "cells": [
  {
   "cell_type": "code",
   "execution_count": 20,
   "id": "3085cabb",
   "metadata": {},
   "outputs": [],
   "source": [
    "from USTs import USTs\n",
    "import datetime\n",
    "from datetime import timedelta\n",
    "import QuantLib as ql\n",
    "import numpy as np\n",
    "from typing import List\n",
    "import calendar\n",
    "from dateutil.relativedelta import relativedelta"
   ]
  },
  {
   "cell_type": "code",
   "execution_count": 3,
   "id": "cb457929",
   "metadata": {},
   "outputs": [
    {
     "data": {
      "text/plain": [
       "0.8"
      ]
     },
     "execution_count": 3,
     "metadata": {},
     "output_type": "execute_result"
    }
   ],
   "source": [
    "# Bill pricing\n",
    "issue_date = datetime.date(2004, 1, 22)\n",
    "maturity_date = datetime.date(2004, 2, 19)\n",
    "\n",
    "bill_1 = USTs(auction_data= None, price_data=None).get_bill_discount_rate(price=99.937778,\n",
    "                                                                          issue_date=issue_date,\n",
    "                                                                          maturity_date=maturity_date)\n",
    "bill_1"
   ]
  },
  {
   "cell_type": "code",
   "execution_count": 4,
   "id": "dd307934",
   "metadata": {},
   "outputs": [
    {
     "data": {
      "text/plain": [
       "0.811"
      ]
     },
     "execution_count": 4,
     "metadata": {},
     "output_type": "execute_result"
    }
   ],
   "source": [
    "issue_date = datetime.date(2004, 1, 22)\n",
    "maturity_date = datetime.date(2004, 2, 19)\n",
    "bill_2 = USTs(auction_data= None, price_data=None).get_bill_BEYTM(price=99.937778,\n",
    "                                                                          issue_date=issue_date,\n",
    "                                                                          maturity_date=maturity_date)\n",
    "bill_2"
   ]
  },
  {
   "cell_type": "code",
   "execution_count": 5,
   "id": "dfa56e13",
   "metadata": {},
   "outputs": [
    {
     "data": {
      "text/plain": [
       "8.237"
      ]
     },
     "execution_count": 5,
     "metadata": {},
     "output_type": "execute_result"
    }
   ],
   "source": [
    "issue_date = datetime.date(1990, 6, 7)\n",
    "maturity_date = datetime.date(1991, 6, 6)\n",
    "bill_2 = USTs(auction_data= None, price_data=None).get_bill_BEYTM(price=92.265000,\n",
    "                                                                          issue_date=issue_date,\n",
    "                                                                          maturity_date=maturity_date)\n",
    "bill_2"
   ]
  },
  {
   "cell_type": "code",
   "execution_count": null,
   "id": "81ff9672",
   "metadata": {},
   "outputs": [],
   "source": [
    "issue_date = datetime.date(2015, 8, 17)\n",
    "maturity_date = datetime.date(2025, 8, 15)\n",
    "\n",
    "def adjust_for_weekend(date: datetime.date) -> datetime.date: # type: ignore\n",
    "    if date.weekday() in [5, 6]:\n",
    "        date = date + timedelta(days=(7 - date.weekday()))\n",
    "    return date\n",
    "\n",
    "def get_coupon_dates(issue_date, maturity_date) -> List[datetime.date]: # type: ignore\n",
    "    payment_set = []\n",
    "    payment_set.append(maturity_date)\n",
    "    current_date = maturity_date\n",
    "\n",
    "    while current_date > issue_date:\n",
    "        current_date = maturity_date - relativedelta(months=len(payment_set) * 6)\n",
    "        current_date = adjust_for_weekend(current_date)\n",
    "        if current_date > issue_date:\n",
    "            payment_set.append(current_date)\n",
    "    payment_set.sort()\n",
    "    return payment_set"
   ]
  },
  {
   "cell_type": "code",
   "execution_count": null,
   "id": "a7050a5c",
   "metadata": {},
   "outputs": [
    {
     "data": {
      "text/plain": [
       "[datetime.date(2016, 2, 15),\n",
       " datetime.date(2016, 8, 15),\n",
       " datetime.date(2017, 2, 15),\n",
       " datetime.date(2017, 8, 15),\n",
       " datetime.date(2018, 2, 15),\n",
       " datetime.date(2018, 8, 15),\n",
       " datetime.date(2019, 2, 15),\n",
       " datetime.date(2019, 8, 15),\n",
       " datetime.date(2020, 2, 17),\n",
       " datetime.date(2020, 8, 17),\n",
       " datetime.date(2021, 2, 15),\n",
       " datetime.date(2021, 8, 16),\n",
       " datetime.date(2022, 2, 15),\n",
       " datetime.date(2022, 8, 15),\n",
       " datetime.date(2023, 2, 15),\n",
       " datetime.date(2023, 8, 15),\n",
       " datetime.date(2024, 2, 15),\n",
       " datetime.date(2024, 8, 15),\n",
       " datetime.date(2025, 2, 17),\n",
       " datetime.date(2025, 8, 15)]"
      ]
     },
     "execution_count": 85,
     "metadata": {},
     "output_type": "execute_result"
    }
   ],
   "source": [
    "efg = get_coupon_dates(issue_date, maturity_date)\n",
    "efg"
   ]
  },
  {
   "cell_type": "code",
   "execution_count": 63,
   "id": "80c29dc2",
   "metadata": {},
   "outputs": [
    {
     "data": {
      "text/plain": [
       "datetime.date(2024, 10, 31)"
      ]
     },
     "execution_count": 63,
     "metadata": {},
     "output_type": "execute_result"
    }
   ],
   "source": [
    "datetime.date(2025, 5, 31) - relativedelta(months=7)"
   ]
  },
  {
   "cell_type": "code",
   "execution_count": null,
   "id": "75d56769",
   "metadata": {},
   "outputs": [
    {
     "data": {
      "text/plain": [
       "0"
      ]
     },
     "execution_count": 67,
     "metadata": {},
     "output_type": "execute_result"
    }
   ],
   "source": []
  }
 ],
 "metadata": {
  "kernelspec": {
   "display_name": "Python 3",
   "language": "python",
   "name": "python3"
  },
  "language_info": {
   "codemirror_mode": {
    "name": "ipython",
    "version": 3
   },
   "file_extension": ".py",
   "mimetype": "text/x-python",
   "name": "python",
   "nbconvert_exporter": "python",
   "pygments_lexer": "ipython3",
   "version": "3.12.1"
  }
 },
 "nbformat": 4,
 "nbformat_minor": 5
}
