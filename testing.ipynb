{
 "cells": [
  {
   "cell_type": "code",
   "execution_count": 1,
   "id": "3085cabb",
   "metadata": {},
   "outputs": [],
   "source": [
    "from USTs import USTs\n",
    "import datetime\n",
    "from dateutil.relativedelta import relativedelta\n",
    "from scipy.optimize import newton\n",
    "import pandas_market_calendars as mcal\n",
    "import pandas as pd"
   ]
  },
  {
   "cell_type": "code",
   "execution_count": 2,
   "id": "0d329089",
   "metadata": {},
   "outputs": [],
   "source": [
    "PRICE = 100.06250\n",
    "ISSUE = datetime.datetime(2023, 8, 31)\n",
    "RATE = 5.000\n",
    "MATURITY = datetime.datetime(2025, 8, 31)\n",
    "SETTLEMENT = datetime.datetime(2025, 6, 27)"
   ]
  },
  {
   "cell_type": "code",
   "execution_count": 3,
   "id": "1b8896ea",
   "metadata": {},
   "outputs": [
    {
     "data": {
      "text/plain": [
       "datetime.timedelta(days=65)"
      ]
     },
     "execution_count": 3,
     "metadata": {},
     "output_type": "execute_result"
    }
   ],
   "source": [
    "MATURITY - SETTLEMENT"
   ]
  },
  {
   "cell_type": "code",
   "execution_count": 4,
   "id": "53e61f25",
   "metadata": {},
   "outputs": [
    {
     "data": {
      "text/plain": [
       "4.557634"
      ]
     },
     "execution_count": 4,
     "metadata": {},
     "output_type": "execute_result"
    }
   ],
   "source": [
    "USTs(auction_data= None, price_data=None).get_coupon_ytm(price=PRICE,\n",
    "                                                                  issue_date=ISSUE,\n",
    "                                                                  maturity_date=MATURITY,\n",
    "                                                                  settlement_date=SETTLEMENT,\n",
    "                                                                  coupon=RATE,\n",
    "                                                                  dirty=False)"
   ]
  },
  {
   "cell_type": "code",
   "execution_count": 5,
   "id": "6c1ea948",
   "metadata": {},
   "outputs": [
    {
     "data": {
      "text/plain": [
       "4.603251957622772"
      ]
     },
     "execution_count": 5,
     "metadata": {},
     "output_type": "execute_result"
    }
   ],
   "source": [
    "import rateslib as rl\n",
    "bill = rl.FixedRateBond(\n",
    "    effective=ISSUE,\n",
    "    termination=MATURITY,\n",
    "    fixed_rate = RATE,\n",
    "    spec=\"us_gb\"  # US Government Bond\n",
    ")\n",
    "rateslib = bill.ytm(price=PRICE, settlement=SETTLEMENT)\n",
    "rateslib"
   ]
  }
 ],
 "metadata": {
  "kernelspec": {
   "display_name": "Python 3",
   "language": "python",
   "name": "python3"
  },
  "language_info": {
   "codemirror_mode": {
    "name": "ipython",
    "version": 3
   },
   "file_extension": ".py",
   "mimetype": "text/x-python",
   "name": "python",
   "nbconvert_exporter": "python",
   "pygments_lexer": "ipython3",
   "version": "3.12.1"
  }
 },
 "nbformat": 4,
 "nbformat_minor": 5
}
