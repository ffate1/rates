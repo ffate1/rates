{
 "cells": [
  {
   "cell_type": "code",
   "execution_count": 2,
   "id": "3085cabb",
   "metadata": {},
   "outputs": [],
   "source": [
    "from USTs import USTs\n",
    "import datetime\n",
    "from dateutil.relativedelta import relativedelta\n",
    "from scipy.optimize import newton\n",
    "import pandas_market_calendars as mcal\n",
    "import pandas as pd"
   ]
  },
  {
   "cell_type": "code",
   "execution_count": 12,
   "id": "0d329089",
   "metadata": {},
   "outputs": [],
   "source": [
    "PRICE = 61.18750\n",
    "ISSUE = datetime.datetime(2020, 8, 31)\n",
    "RATE = 1.125\n",
    "MATURITY = datetime.datetime(2040, 8, 15)\n",
    "SETTLEMENT = datetime.datetime(2025, 6, 27)"
   ]
  },
  {
   "cell_type": "code",
   "execution_count": 13,
   "id": "53e61f25",
   "metadata": {},
   "outputs": [
    {
     "data": {
      "text/plain": [
       "4.748574"
      ]
     },
     "execution_count": 13,
     "metadata": {},
     "output_type": "execute_result"
    }
   ],
   "source": [
    "USTs(auction_data= None, price_data=None).get_coupon_ytm(price=PRICE,\n",
    "                                                                  issue_date=ISSUE,\n",
    "                                                                  maturity_date=MATURITY,\n",
    "                                                                  settlement_date=SETTLEMENT,\n",
    "                                                                  coupon=RATE,\n",
    "                                                                  dirty=False)"
   ]
  },
  {
   "cell_type": "code",
   "execution_count": 14,
   "id": "6c1ea948",
   "metadata": {},
   "outputs": [
    {
     "data": {
      "text/plain": [
       "4.749495587295831"
      ]
     },
     "execution_count": 14,
     "metadata": {},
     "output_type": "execute_result"
    }
   ],
   "source": [
    "import rateslib as rl\n",
    "bill = rl.FixedRateBond(\n",
    "    effective=ISSUE,\n",
    "    termination=MATURITY,\n",
    "    fixed_rate = RATE,\n",
    "    spec=\"us_gb\"  # US Government Bond\n",
    ")\n",
    "rateslib = bill.ytm(price=PRICE, settlement=SETTLEMENT)\n",
    "rateslib"
   ]
  }
 ],
 "metadata": {
  "kernelspec": {
   "display_name": "Python 3",
   "language": "python",
   "name": "python3"
  },
  "language_info": {
   "codemirror_mode": {
    "name": "ipython",
    "version": 3
   },
   "file_extension": ".py",
   "mimetype": "text/x-python",
   "name": "python",
   "nbconvert_exporter": "python",
   "pygments_lexer": "ipython3",
   "version": "3.12.1"
  }
 },
 "nbformat": 4,
 "nbformat_minor": 5
}
