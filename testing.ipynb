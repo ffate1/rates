{
 "cells": [
  {
   "cell_type": "code",
   "execution_count": null,
   "id": "21e12678",
   "metadata": {},
   "outputs": [],
   "source": [
    "from datetime import datetime\n",
    "from bs4 import BeautifulSoup\n",
    "import pandas as pd\n",
    "import requests\n",
    "payload = {\n",
    "    \"priceDate.month\": 2,\n",
    "    \"priceDate.day\": 5,\n",
    "    \"priceDate.year\": 2025,\n",
    "    \"submit\": \"submit\"\n",
    "}\n",
    "\n",
    "url = \"https://www.treasurydirect.gov/GA-FI/FedInvest/selectSecurityPriceDate\"\n",
    "\n",
    "try:\n",
    "    response = requests.post(url=url, data=payload, timeout=30)\n",
    "    response.raise_for_status()\n",
    "\n",
    "except requests.exceptions.RequestException as e:\n",
    "    print(f\"Error occured: {e}\")\n",
    "    return None\n",
    "\n",
    "output = BeautifulSoup(response.text, \"html.parser\")\n",
    "table = output.find_all(\"table\", class_=\"data1\") # Getting table from webpage\n",
    "\n",
    "table_header = output.find_all(\"th\") # Getting table headings only\n",
    "col_names = list()\n",
    "for header in table_header: # Adding table headers to col_names list\n",
    "    col_names.append(header.text)\n",
    "\n",
    "info = output.find_all(\"tr\")[1:] # Getting all rows of table without header row\n",
    "\n",
    "table_data_info = list()\n",
    "for data in info: # Adding row data to dictionaries in a list\n",
    "    data = data.text.split('\\n')\n",
    "    table_data_info.append({\n",
    "        col_names[0]: data[1],\n",
    "        col_names[1]: data[2],\n",
    "        col_names[2]: data[3],\n",
    "        col_names[3]: data[4],\n",
    "        col_names[4]: data[5],\n",
    "        col_names[5]: data[6],\n",
    "        col_names[6]: data[7],\n",
    "        col_names[7]: data[8],       \n",
    "    })\n",
    "\n",
    "df = pd.DataFrame(data=table_data_info, columns=col_names) # Creating a DataFrame with information gathered"
   ]
  }
 ],
 "metadata": {
  "kernelspec": {
   "display_name": "Python 3",
   "language": "python",
   "name": "python3"
  },
  "language_info": {
   "codemirror_mode": {
    "name": "ipython",
    "version": 3
   },
   "file_extension": ".py",
   "mimetype": "text/x-python",
   "name": "python",
   "nbconvert_exporter": "python",
   "pygments_lexer": "ipython3",
   "version": "3.12.1"
  }
 },
 "nbformat": 4,
 "nbformat_minor": 5
}
