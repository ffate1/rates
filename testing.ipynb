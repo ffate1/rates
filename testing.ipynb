{
 "cells": [
  {
   "cell_type": "code",
   "execution_count": 7,
   "id": "3085cabb",
   "metadata": {},
   "outputs": [],
   "source": [
    "from USTs import USTs\n",
    "from datetime import datetime, timedelta\n",
    "import QuantLib as ql\n",
    "import numpy as np"
   ]
  },
  {
   "cell_type": "code",
   "execution_count": 2,
   "id": "cb457929",
   "metadata": {},
   "outputs": [
    {
     "data": {
      "text/plain": [
       "0.8"
      ]
     },
     "execution_count": 2,
     "metadata": {},
     "output_type": "execute_result"
    }
   ],
   "source": [
    "# Bill pricing\n",
    "issue_date = datetime.date(2004, 1, 22)\n",
    "maturity_date = datetime.date(2004, 2, 19)\n",
    "\n",
    "bill_1 = USTs(auction_data= None, price_data=None).get_bill_discount_rate(price=99.937778,\n",
    "                                                                          issue_date=issue_date,\n",
    "                                                                          maturity_date=maturity_date)\n",
    "bill_1"
   ]
  },
  {
   "cell_type": "code",
   "execution_count": 3,
   "id": "dd307934",
   "metadata": {},
   "outputs": [
    {
     "data": {
      "text/plain": [
       "0.813"
      ]
     },
     "execution_count": 3,
     "metadata": {},
     "output_type": "execute_result"
    }
   ],
   "source": [
    "issue_date = datetime.date(2004, 1, 22)\n",
    "maturity_date = datetime.date(2004, 2, 19)\n",
    "bill_2 = USTs(auction_data= None, price_data=None).get_bill_BEYTM(price=99.937778,\n",
    "                                                                          issue_date=issue_date,\n",
    "                                                                          maturity_date=maturity_date)\n",
    "bill_2"
   ]
  },
  {
   "cell_type": "code",
   "execution_count": 4,
   "id": "dfa56e13",
   "metadata": {},
   "outputs": [
    {
     "data": {
      "text/plain": [
       "8.237"
      ]
     },
     "execution_count": 4,
     "metadata": {},
     "output_type": "execute_result"
    }
   ],
   "source": [
    "issue_date = datetime.date(1990, 6, 7)\n",
    "maturity_date = datetime.date(1991, 6, 6)\n",
    "bill_2 = USTs(auction_data= None, price_data=None).get_bill_BEYTM(price=92.265000,\n",
    "                                                                          issue_date=issue_date,\n",
    "                                                                          maturity_date=maturity_date)\n",
    "bill_2"
   ]
  },
  {
   "cell_type": "code",
   "execution_count": 37,
   "id": "e7be181b",
   "metadata": {},
   "outputs": [],
   "source": [
    "issue_date = datetime(2024, 8, 15).date()\n",
    "maturity_date = datetime(2034, 8, 15).date()\n",
    "coupon = 4.375\n",
    "price = 100.34375\n",
    "FV = 100\n",
    "\n",
    "def create_date_set(issue_date, maturity_date):\n",
    "    DAY = 15\n",
    "    tenor = maturity_date.year - issue_date.year\n",
    "    coupons = tenor * 2\n",
    "    today = datetime.now().date()\n",
    "    payment_set = []\n",
    "    if issue_date.month + 6 > 12:\n",
    "        coupon_months = [issue_date.month - 6, issue_date.month]\n",
    "        while len(payment_set) < coupons:\n",
    "            for year in range(issue_date.year + 1, maturity_date.year + 1):\n",
    "                for month in coupon_months:\n",
    "                    payment_set.append(datetime(year, month, DAY).date())\n",
    "    else:\n",
    "        coupon_months = [issue_date.month + 6, issue_date.month]\n",
    "        payment_set.append(datetime(issue_date.year, coupon_months[0], DAY).date())\n",
    "        for year in range(issue_date.year + 1, maturity_date.year + 1):\n",
    "            for month in reversed(coupon_months):\n",
    "                if len(payment_set) < 20:\n",
    "                    payment_set.append(datetime(year, month, DAY).date())\n",
    "    if len(payment_set) == coupons:\n",
    "        print(f\"{coupons} coupons dates in set, matching the expected number.\")\n",
    "        return payment_set"
   ]
  },
  {
   "cell_type": "code",
   "execution_count": 38,
   "id": "4859e52c",
   "metadata": {},
   "outputs": [
    {
     "name": "stdout",
     "output_type": "stream",
     "text": [
      "20 coupons dates in set, matching the expected number.\n"
     ]
    }
   ],
   "source": [
    "abc = create_date_set(issue_date=issue_date, maturity_date=maturity_date)"
   ]
  },
  {
   "cell_type": "code",
   "execution_count": 39,
   "id": "164ae189",
   "metadata": {},
   "outputs": [
    {
     "data": {
      "text/plain": [
       "[datetime.date(2025, 2, 15),\n",
       " datetime.date(2025, 8, 15),\n",
       " datetime.date(2026, 2, 15),\n",
       " datetime.date(2026, 8, 15),\n",
       " datetime.date(2027, 2, 15),\n",
       " datetime.date(2027, 8, 15),\n",
       " datetime.date(2028, 2, 15),\n",
       " datetime.date(2028, 8, 15),\n",
       " datetime.date(2029, 2, 15),\n",
       " datetime.date(2029, 8, 15),\n",
       " datetime.date(2030, 2, 15),\n",
       " datetime.date(2030, 8, 15),\n",
       " datetime.date(2031, 2, 15),\n",
       " datetime.date(2031, 8, 15),\n",
       " datetime.date(2032, 2, 15),\n",
       " datetime.date(2032, 8, 15),\n",
       " datetime.date(2033, 2, 15),\n",
       " datetime.date(2033, 8, 15),\n",
       " datetime.date(2034, 2, 15),\n",
       " datetime.date(2034, 8, 15)]"
      ]
     },
     "execution_count": 39,
     "metadata": {},
     "output_type": "execute_result"
    }
   ],
   "source": [
    "abc"
   ]
  }
 ],
 "metadata": {
  "kernelspec": {
   "display_name": "Python 3",
   "language": "python",
   "name": "python3"
  },
  "language_info": {
   "codemirror_mode": {
    "name": "ipython",
    "version": 3
   },
   "file_extension": ".py",
   "mimetype": "text/x-python",
   "name": "python",
   "nbconvert_exporter": "python",
   "pygments_lexer": "ipython3",
   "version": "3.12.1"
  }
 },
 "nbformat": 4,
 "nbformat_minor": 5
}
