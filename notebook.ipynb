{
 "cells": [
  {
   "cell_type": "code",
   "execution_count": 1,
   "id": "635f2b19",
   "metadata": {},
   "outputs": [],
   "source": [
    "from DataFetcher import DataFetcher\n",
    "from USTs import USTs\n",
    "import matplotlib.pyplot as plt\n",
    "import seaborn as sns\n",
    "import pandas as pd\n",
    "from datetime import datetime"
   ]
  },
  {
   "cell_type": "code",
   "execution_count": 6,
   "id": "875b85cc",
   "metadata": {},
   "outputs": [],
   "source": [
    "auctions = DataFetcher().fetch_auction_data()\n",
    "prices = DataFetcher().fetch_historical_UST_data(date=datetime(year=2024, month=9, day=20))"
   ]
  },
  {
   "cell_type": "code",
   "execution_count": 7,
   "id": "5f68b330",
   "metadata": {},
   "outputs": [
    {
     "name": "stdout",
     "output_type": "stream",
     "text": [
      "Merged auction and price data successfully\n",
      "No missing or excess data\n",
      "All CUSIPs are identical between DataFrames\n"
     ]
    }
   ],
   "source": [
    "ust_set = USTs(auction_data=auctions, price_data=prices)\n",
    "ust_set = ust_set.get_current_UST_set(include_FRNs=False, include_TIPS=False)"
   ]
  },
  {
   "cell_type": "code",
   "execution_count": 8,
   "id": "ecbab276",
   "metadata": {},
   "outputs": [
    {
     "data": {
      "text/html": [
       "<div>\n",
       "<style scoped>\n",
       "    .dataframe tbody tr th:only-of-type {\n",
       "        vertical-align: middle;\n",
       "    }\n",
       "\n",
       "    .dataframe tbody tr th {\n",
       "        vertical-align: top;\n",
       "    }\n",
       "\n",
       "    .dataframe thead th {\n",
       "        text-align: right;\n",
       "    }\n",
       "</style>\n",
       "<table border=\"1\" class=\"dataframe\">\n",
       "  <thead>\n",
       "    <tr style=\"text-align: right;\">\n",
       "      <th></th>\n",
       "      <th>Cusip</th>\n",
       "      <th>Security type</th>\n",
       "      <th>Rate</th>\n",
       "      <th>Maturity date</th>\n",
       "      <th>Buy</th>\n",
       "      <th>Sell</th>\n",
       "      <th>End of day</th>\n",
       "      <th>security_term</th>\n",
       "      <th>issue_date</th>\n",
       "    </tr>\n",
       "  </thead>\n",
       "  <tbody>\n",
       "    <tr>\n",
       "      <th>330</th>\n",
       "      <td>912810QT8</td>\n",
       "      <td>Bond</td>\n",
       "      <td>3.125</td>\n",
       "      <td>2041-11-15</td>\n",
       "      <td>88.703125</td>\n",
       "      <td>88.625</td>\n",
       "      <td>88.9375</td>\n",
       "      <td>30-Year</td>\n",
       "      <td>2011-11-15</td>\n",
       "    </tr>\n",
       "  </tbody>\n",
       "</table>\n",
       "</div>"
      ],
      "text/plain": [
       "         Cusip Security type   Rate Maturity date        Buy    Sell  \\\n",
       "330  912810QT8          Bond  3.125    2041-11-15  88.703125  88.625   \n",
       "\n",
       "     End of day security_term issue_date  \n",
       "330     88.9375       30-Year 2011-11-15  "
      ]
     },
     "execution_count": 8,
     "metadata": {},
     "output_type": "execute_result"
    }
   ],
   "source": [
    "ust_set[ust_set['Cusip'] == '912810QT8']"
   ]
  }
 ],
 "metadata": {
  "kernelspec": {
   "display_name": "Python 3",
   "language": "python",
   "name": "python3"
  },
  "language_info": {
   "codemirror_mode": {
    "name": "ipython",
    "version": 3
   },
   "file_extension": ".py",
   "mimetype": "text/x-python",
   "name": "python",
   "nbconvert_exporter": "python",
   "pygments_lexer": "ipython3",
   "version": "3.12.1"
  }
 },
 "nbformat": 4,
 "nbformat_minor": 5
}
