{
 "cells": [
  {
   "cell_type": "code",
   "execution_count": 1,
   "id": "635f2b19",
   "metadata": {},
   "outputs": [],
   "source": [
    "from DataFetcher import DataFetcher\n",
    "from USTs import USTs\n",
    "import matplotlib.pyplot as plt\n",
    "import seaborn as sns\n",
    "import pandas as pd\n",
    "from datetime import datetime"
   ]
  },
  {
   "cell_type": "code",
   "execution_count": 2,
   "id": "875b85cc",
   "metadata": {},
   "outputs": [],
   "source": [
    "auctions = DataFetcher().fetch_auction_data()\n",
    "prices = DataFetcher().fetch_historical_UST_data(date=datetime(year=2025, month=6, day=20))"
   ]
  },
  {
   "cell_type": "code",
   "execution_count": 5,
   "id": "5f68b330",
   "metadata": {},
   "outputs": [
    {
     "name": "stdout",
     "output_type": "stream",
     "text": [
      "Merged auction and price data successfully\n",
      "No missing or excess data\n",
      "All CUSIPs are identical between DataFrames\n"
     ]
    }
   ],
   "source": [
    "ust_set = USTs(auction_data=auctions, price_data=prices)\n",
    "ust_set = ust_set.get_current_UST_set(include_FRNs=False, include_TIPS=False)"
   ]
  },
  {
   "cell_type": "code",
   "execution_count": 7,
   "id": "ecbab276",
   "metadata": {},
   "outputs": [
    {
     "data": {
      "text/html": [
       "<div>\n",
       "<style scoped>\n",
       "    .dataframe tbody tr th:only-of-type {\n",
       "        vertical-align: middle;\n",
       "    }\n",
       "\n",
       "    .dataframe tbody tr th {\n",
       "        vertical-align: top;\n",
       "    }\n",
       "\n",
       "    .dataframe thead th {\n",
       "        text-align: right;\n",
       "    }\n",
       "</style>\n",
       "<table border=\"1\" class=\"dataframe\">\n",
       "  <thead>\n",
       "    <tr style=\"text-align: right;\">\n",
       "      <th></th>\n",
       "      <th>Cusip</th>\n",
       "      <th>Security type</th>\n",
       "      <th>Rate</th>\n",
       "      <th>Maturity date</th>\n",
       "      <th>Buy</th>\n",
       "      <th>Sell</th>\n",
       "      <th>End of day</th>\n",
       "      <th>security_term</th>\n",
       "      <th>issue_date</th>\n",
       "    </tr>\n",
       "  </thead>\n",
       "  <tbody>\n",
       "    <tr>\n",
       "      <th>291</th>\n",
       "      <td>91282CNC1</td>\n",
       "      <td>Note</td>\n",
       "      <td>4.25</td>\n",
       "      <td>2035-05-15</td>\n",
       "      <td>98.875</td>\n",
       "      <td>98.875</td>\n",
       "      <td>99.0</td>\n",
       "      <td>10-Year</td>\n",
       "      <td>2025-05-15</td>\n",
       "    </tr>\n",
       "  </tbody>\n",
       "</table>\n",
       "</div>"
      ],
      "text/plain": [
       "         Cusip Security type  Rate Maturity date     Buy    Sell  End of day  \\\n",
       "291  91282CNC1          Note  4.25    2035-05-15  98.875  98.875        99.0   \n",
       "\n",
       "    security_term issue_date  \n",
       "291       10-Year 2025-05-15  "
      ]
     },
     "execution_count": 7,
     "metadata": {},
     "output_type": "execute_result"
    }
   ],
   "source": [
    "ust_set[ust_set['Cusip'] == '91282CNC1']"
   ]
  }
 ],
 "metadata": {
  "kernelspec": {
   "display_name": "Python 3",
   "language": "python",
   "name": "python3"
  },
  "language_info": {
   "codemirror_mode": {
    "name": "ipython",
    "version": 3
   },
   "file_extension": ".py",
   "mimetype": "text/x-python",
   "name": "python",
   "nbconvert_exporter": "python",
   "pygments_lexer": "ipython3",
   "version": "3.12.1"
  }
 },
 "nbformat": 4,
 "nbformat_minor": 5
}
