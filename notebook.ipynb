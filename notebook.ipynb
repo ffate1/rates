{
 "cells": [
  {
   "cell_type": "code",
   "execution_count": 1,
   "id": "635f2b19",
   "metadata": {},
   "outputs": [],
   "source": [
    "from DataFetcher import DataFetcher\n",
    "from USTs import USTs\n",
    "import matplotlib.pyplot as plt\n",
    "import seaborn as sns\n",
    "import pandas as pd\n",
    "import datetime\n",
    "import plotly.graph_objects as go"
   ]
  },
  {
   "cell_type": "code",
   "execution_count": 2,
   "id": "875b85cc",
   "metadata": {},
   "outputs": [],
   "source": [
    "auctions = DataFetcher().fetch_auction_data()\n",
    "prices = DataFetcher().fetch_historical_UST_data(date=datetime.datetime(year=2025, month=6, day=26))"
   ]
  },
  {
   "cell_type": "code",
   "execution_count": 47,
   "id": "5f68b330",
   "metadata": {},
   "outputs": [
    {
     "name": "stdout",
     "output_type": "stream",
     "text": [
      "Merged auction and price data successfully\n",
      "No missing or excess data\n",
      "All CUSIPs are identical between DataFrames\n"
     ]
    }
   ],
   "source": [
    "ust_set = USTs(auction_data=auctions,price_data=prices).get_current_UST_set(settlement_date=datetime.datetime(2025, 6, 27),\n",
    "                                                                            get_ytms=True,\n",
    "                                                                            include_FRNs=False,\n",
    "                                                                            include_TIPS=False)"
   ]
  },
  {
   "cell_type": "code",
   "execution_count": 46,
   "id": "75d49112",
   "metadata": {},
   "outputs": [
    {
     "data": {
      "application/vnd.plotly.v1+json": {
       "config": {
        "plotlyServerURL": "https://plot.ly"
       },
       "data": [
        {
         "marker": {
          "size": 6
         },
         "mode": "markers",
         "name": "2-Year",
         "type": "scatter",
         "x": [
          "2025-09-30T00:00:00.000000000",
          "2025-10-31T00:00:00.000000000",
          "2025-11-30T00:00:00.000000000",
          "2025-12-31T00:00:00.000000000",
          "2026-01-31T00:00:00.000000000",
          "2026-02-28T00:00:00.000000000",
          "2026-03-31T00:00:00.000000000",
          "2026-04-30T00:00:00.000000000",
          "2026-05-31T00:00:00.000000000",
          "2026-06-30T00:00:00.000000000",
          "2026-07-31T00:00:00.000000000",
          "2026-08-31T00:00:00.000000000",
          "2026-09-30T00:00:00.000000000",
          "2026-10-31T00:00:00.000000000",
          "2026-11-30T00:00:00.000000000",
          "2026-12-31T00:00:00.000000000",
          "2027-01-31T00:00:00.000000000",
          "2027-02-28T00:00:00.000000000",
          "2027-03-31T00:00:00.000000000",
          "2027-04-30T00:00:00.000000000",
          "2027-05-31T00:00:00.000000000"
         ],
         "y": {
          "bdata": "E88bHxQxpj/DpghPbC6mPxEnBx6lM6Y/fIJhTDyYpT8NbSFECWWlPw29zTTEJaU/WwStXWYapT9SwsAx0w+lP+9exRRyxqQ/EmCBfa6VpD+muyUYUm6kP3BF/1dfVaQ/mvQx/gH/oz+X1J7MHuyjP0hgIMZzz6M/kH7Bj+afoz+UmNLAsHijP/5hKoG9V6M/nLaxn+Zgoz8Y0n730DajP5hMV6gcMKM/",
          "dtype": "f8"
         }
        },
        {
         "marker": {
          "size": 6
         },
         "mode": "markers",
         "name": "3-Year",
         "type": "scatter",
         "x": [
          "2025-10-15T00:00:00.000000000",
          "2025-11-15T00:00:00.000000000",
          "2025-12-15T00:00:00.000000000",
          "2026-01-15T00:00:00.000000000",
          "2026-02-15T00:00:00.000000000",
          "2026-03-15T00:00:00.000000000",
          "2026-04-15T00:00:00.000000000",
          "2026-05-15T00:00:00.000000000",
          "2026-06-15T00:00:00.000000000",
          "2026-07-15T00:00:00.000000000",
          "2026-08-15T00:00:00.000000000",
          "2026-09-15T00:00:00.000000000",
          "2026-10-15T00:00:00.000000000",
          "2026-11-15T00:00:00.000000000",
          "2026-12-15T00:00:00.000000000",
          "2027-01-15T00:00:00.000000000",
          "2027-02-15T00:00:00.000000000",
          "2027-03-15T00:00:00.000000000",
          "2027-04-15T00:00:00.000000000",
          "2027-05-15T00:00:00.000000000",
          "2027-06-15T00:00:00.000000000",
          "2027-07-15T00:00:00.000000000",
          "2027-08-15T00:00:00.000000000",
          "2027-09-15T00:00:00.000000000",
          "2027-10-15T00:00:00.000000000",
          "2027-11-15T00:00:00.000000000",
          "2027-12-15T00:00:00.000000000",
          "2028-01-15T00:00:00.000000000",
          "2028-02-15T00:00:00.000000000",
          "2028-03-15T00:00:00.000000000",
          "2028-04-15T00:00:00.000000000",
          "2028-05-15T00:00:00.000000000",
          "2028-06-15T00:00:00.000000000"
         ],
         "y": {
          "bdata": "wfb2W/k0pj+B+K9ipw6mP/Pvp4QvZaU/qFvRQfIppT9RqSsCEDWlP9bs3A/TGaU/AfsBcjbbpD8ULOXnTPukP6/njKS0aaQ/o72w681epD+/HfLgODqkP6n56NwGGKQ/3yzrH8D5oz+A9OpvS9yjP1PCXQcYp6M/zJBTCYmToz8PjFERhoWjPz2cfliIcaM/AYDnB0NXoz8G2XBgi0CjP1uuZc/xE6M/qFO7sk0ioz8417R7hxWjPwGeF5sU7qI/LAFjQ1gJoz+cZmjZ5gijPwOFconA5KI/L1ZQKHb6oj84Ucc6h/iiPzbVrJbo6qI/5o200KXqoj+6ldLxoPKiP8F8aNWd3aI/",
          "dtype": "f8"
         }
        },
        {
         "marker": {
          "size": 6
         },
         "mode": "markers",
         "name": "5-Year",
         "type": "scatter",
         "x": [
          "2025-09-30T00:00:00.000000000",
          "2025-10-31T00:00:00.000000000",
          "2025-11-30T00:00:00.000000000",
          "2025-12-31T00:00:00.000000000",
          "2026-01-31T00:00:00.000000000",
          "2026-02-28T00:00:00.000000000",
          "2026-03-31T00:00:00.000000000",
          "2026-04-30T00:00:00.000000000",
          "2026-05-31T00:00:00.000000000",
          "2026-06-30T00:00:00.000000000",
          "2026-07-31T00:00:00.000000000",
          "2026-08-31T00:00:00.000000000",
          "2026-09-30T00:00:00.000000000",
          "2026-10-31T00:00:00.000000000",
          "2026-11-30T00:00:00.000000000",
          "2026-12-31T00:00:00.000000000",
          "2027-02-28T00:00:00.000000000",
          "2027-03-31T00:00:00.000000000",
          "2027-04-30T00:00:00.000000000",
          "2027-05-31T00:00:00.000000000",
          "2027-06-30T00:00:00.000000000",
          "2027-07-31T00:00:00.000000000",
          "2027-08-31T00:00:00.000000000",
          "2027-09-30T00:00:00.000000000",
          "2027-10-31T00:00:00.000000000",
          "2027-11-30T00:00:00.000000000",
          "2027-12-31T00:00:00.000000000",
          "2028-01-31T00:00:00.000000000",
          "2028-02-29T00:00:00.000000000",
          "2028-03-31T00:00:00.000000000",
          "2028-04-30T00:00:00.000000000",
          "2028-05-31T00:00:00.000000000",
          "2028-06-30T00:00:00.000000000",
          "2028-07-31T00:00:00.000000000",
          "2028-08-31T00:00:00.000000000",
          "2028-09-30T00:00:00.000000000",
          "2028-10-31T00:00:00.000000000",
          "2028-11-30T00:00:00.000000000",
          "2028-12-31T00:00:00.000000000",
          "2029-01-31T00:00:00.000000000",
          "2029-02-28T00:00:00.000000000",
          "2029-03-31T00:00:00.000000000",
          "2029-04-30T00:00:00.000000000",
          "2029-05-31T00:00:00.000000000",
          "2029-06-30T00:00:00.000000000",
          "2029-07-31T00:00:00.000000000",
          "2029-08-31T00:00:00.000000000",
          "2029-09-30T00:00:00.000000000",
          "2029-10-31T00:00:00.000000000",
          "2029-11-30T00:00:00.000000000",
          "2029-12-31T00:00:00.000000000",
          "2030-01-31T00:00:00.000000000",
          "2030-03-31T00:00:00.000000000",
          "2030-04-30T00:00:00.000000000",
          "2030-05-31T00:00:00.000000000"
         ],
         "y": {
          "bdata": "IPzVLUzwpT8xZzLzTzamPy5/dKA9TaY/Q5OCdqCxpT87niLJpG2lP6Qq2AyRT6U/PwevwAQspT/8SYRfTRKlP6SBzIyGpaQ/fZrNwiKvpD8m/7TNZGqkP+hgw/Q5TqQ/VTcwHHwfpD9g070t3OKjPz8ascNW2KM/F5njid6xoz/j15tarmWjP3Vlo7WaXKM/LCQmye9Eoz80/ALVmkGjPzwsu/1FEqM/ODzOfu4Voz/fY1Up4hmjP4GnPePK8qI/sbySgY8Doz+mxvjuXgejP0N+qsjw8aI/mq4OHY7woj+ztd9WUe6iP+gPD1mL7KI/gWKedKb5oj+TiXwTGvOiP/CtgvfZ8aI/T9Dkan30oj+eEZ1MeQCjP693wdgp86I/L4kWTSULoz/+pofTDwujP19dNrauA6M/EAqlij0Poz/qyT7AQRijP72p5Vr2HKM/WManfN8qoz8KawDCyS6jP/ro/RQBLaM/L1f1qK4yoz94smFuczqjP4C17g8pQKM/1aJwA19Noz9kp0hTd0SjP3h4EZ63TqM/FkZhtBpUoz9jtG2cPWWjP34xAPm3cKM/ywpNK+hqoz8=",
          "dtype": "f8"
         }
        },
        {
         "marker": {
          "size": 6
         },
         "mode": "markers",
         "name": "7-Year",
         "type": "scatter",
         "x": [
          "2025-09-30T00:00:00.000000000",
          "2025-10-31T00:00:00.000000000",
          "2025-11-30T00:00:00.000000000",
          "2025-12-31T00:00:00.000000000",
          "2026-01-31T00:00:00.000000000",
          "2026-02-28T00:00:00.000000000",
          "2026-03-31T00:00:00.000000000",
          "2026-04-30T00:00:00.000000000",
          "2026-05-31T00:00:00.000000000",
          "2026-06-30T00:00:00.000000000",
          "2026-07-31T00:00:00.000000000",
          "2026-08-31T00:00:00.000000000",
          "2026-09-30T00:00:00.000000000",
          "2026-10-31T00:00:00.000000000",
          "2026-11-30T00:00:00.000000000",
          "2026-12-31T00:00:00.000000000",
          "2027-01-31T00:00:00.000000000",
          "2027-02-28T00:00:00.000000000",
          "2027-03-31T00:00:00.000000000",
          "2027-04-30T00:00:00.000000000",
          "2027-05-31T00:00:00.000000000",
          "2027-06-30T00:00:00.000000000",
          "2027-07-31T00:00:00.000000000",
          "2027-08-31T00:00:00.000000000",
          "2027-09-30T00:00:00.000000000",
          "2027-10-31T00:00:00.000000000",
          "2027-11-30T00:00:00.000000000",
          "2027-12-31T00:00:00.000000000",
          "2028-01-31T00:00:00.000000000",
          "2028-02-29T00:00:00.000000000",
          "2028-03-31T00:00:00.000000000",
          "2028-04-30T00:00:00.000000000",
          "2028-05-31T00:00:00.000000000",
          "2028-06-30T00:00:00.000000000",
          "2028-07-31T00:00:00.000000000",
          "2028-08-31T00:00:00.000000000",
          "2028-09-30T00:00:00.000000000",
          "2028-10-31T00:00:00.000000000",
          "2028-11-30T00:00:00.000000000",
          "2028-12-31T00:00:00.000000000",
          "2029-01-31T00:00:00.000000000",
          "2029-02-28T00:00:00.000000000",
          "2029-03-31T00:00:00.000000000",
          "2029-04-30T00:00:00.000000000",
          "2029-05-31T00:00:00.000000000",
          "2029-06-30T00:00:00.000000000",
          "2029-07-31T00:00:00.000000000",
          "2029-08-31T00:00:00.000000000",
          "2029-09-30T00:00:00.000000000",
          "2029-10-31T00:00:00.000000000",
          "2029-11-30T00:00:00.000000000",
          "2029-12-31T00:00:00.000000000",
          "2030-01-31T00:00:00.000000000",
          "2030-02-28T00:00:00.000000000",
          "2030-03-31T00:00:00.000000000",
          "2030-04-30T00:00:00.000000000",
          "2030-05-31T00:00:00.000000000",
          "2030-06-30T00:00:00.000000000",
          "2030-07-31T00:00:00.000000000",
          "2030-08-31T00:00:00.000000000",
          "2030-09-30T00:00:00.000000000",
          "2030-10-31T00:00:00.000000000",
          "2030-11-30T00:00:00.000000000",
          "2030-12-31T00:00:00.000000000",
          "2031-01-31T00:00:00.000000000",
          "2031-02-28T00:00:00.000000000",
          "2031-03-31T00:00:00.000000000",
          "2031-04-30T00:00:00.000000000",
          "2031-05-31T00:00:00.000000000",
          "2031-06-30T00:00:00.000000000",
          "2031-07-31T00:00:00.000000000",
          "2031-08-31T00:00:00.000000000",
          "2031-09-30T00:00:00.000000000",
          "2031-10-31T00:00:00.000000000",
          "2031-11-30T00:00:00.000000000",
          "2031-12-31T00:00:00.000000000",
          "2032-01-31T00:00:00.000000000",
          "2032-02-29T00:00:00.000000000",
          "2032-03-31T00:00:00.000000000",
          "2032-04-30T00:00:00.000000000",
          "2032-05-31T00:00:00.000000000"
         ],
         "y": {
          "bdata": "rnGJZSsWpj9oZn8DB3KmP6T7WhPi/KU/SWXtY8OipT9YWh1rDFulP9pwP31XRqU/ZpNw33IOpT+aLM0xSfqkP/YCeZcHwKQ/mq8WyIGRpD/n5U3R03ikP/41DxYERaQ/gJ8vxW4CpD/o6UxvudmjP269xxXux6M/TTkVX6Oboz/IgU9aVYKjP38MwoE1c6M/DBShptBYoz8y59fewEejP8+kyZyZJqM//LIwG88toz9qOH4LXx2jP73UfFNgGqM/54YqJZkPoz9XKG/T4RmjP6JaCmkJCaM/PwMDa0kFoz/3fry61wejPxcqQXcw/6I/OOZtU9kDoz8tsXQ2ywKjPxTWnVnY9KI/2jGe1qf7oj88M15G8/iiPytAqTCVAqM/pBkHbg8Ioz8cHYCi7AyjPy/FVWXfFaM/x4uevhIGoz9FwjGqkBujP5s9ju45E6M/3JWGr+kgoz8roPWVrC+jP1u2lPs2J6M/k2x9qm03oz9L3QD5MzijP+sHbSD6QaM/akv81Qw+oz/m7owZVUSjP2HIA/RvVaM/zy+t+hpRoz/xGcN7kmSjPzfDLgbmU6M/upa5jqtwoz8976V02X2jP2ctgWtZhKM/SbeInHyCoz9r77Z/I4mjP+8/jdasjqM/sYgfa1+joz8TMBV2rK2jPxJgoouXuKM/gzUQw/XFoz9kFV+CjcqjP1pKdYVn16M/tJWPiwfnoz8LGRv89fGjP8HEYWFv/6M/Kn06gV0LpD820q0yrhOkPxJZWvxcI6Q/Vh1BQ2IvpD/K+YP9rjqkPwK55Z/wRKQ/j0nrFFBNpD8U33l3nlekP+p3xJVxW6Q/AY/B7X1opD8EQiWNVXOkP1u0IXuUfKQ/",
          "dtype": "f8"
         }
        },
        {
         "marker": {
          "size": 6
         },
         "mode": "markers",
         "name": "10-Year",
         "type": "scatter",
         "x": [
          "2025-11-15T00:00:00.000000000",
          "2026-02-15T00:00:00.000000000",
          "2026-05-15T00:00:00.000000000",
          "2026-08-15T00:00:00.000000000",
          "2026-11-15T00:00:00.000000000",
          "2027-02-15T00:00:00.000000000",
          "2027-05-15T00:00:00.000000000",
          "2027-08-15T00:00:00.000000000",
          "2027-11-15T00:00:00.000000000",
          "2028-02-15T00:00:00.000000000",
          "2028-05-15T00:00:00.000000000",
          "2028-08-15T00:00:00.000000000",
          "2028-11-15T00:00:00.000000000",
          "2029-02-15T00:00:00.000000000",
          "2029-05-15T00:00:00.000000000",
          "2029-08-15T00:00:00.000000000",
          "2029-11-15T00:00:00.000000000",
          "2030-02-15T00:00:00.000000000",
          "2030-05-15T00:00:00.000000000",
          "2030-08-15T00:00:00.000000000",
          "2030-11-15T00:00:00.000000000",
          "2031-02-15T00:00:00.000000000",
          "2031-05-15T00:00:00.000000000",
          "2031-08-15T00:00:00.000000000",
          "2031-11-15T00:00:00.000000000",
          "2032-02-15T00:00:00.000000000",
          "2032-05-15T00:00:00.000000000",
          "2032-08-15T00:00:00.000000000",
          "2032-11-15T00:00:00.000000000",
          "2033-02-15T00:00:00.000000000",
          "2033-05-15T00:00:00.000000000",
          "2033-08-15T00:00:00.000000000",
          "2033-11-15T00:00:00.000000000",
          "2034-02-15T00:00:00.000000000",
          "2034-05-15T00:00:00.000000000",
          "2034-08-15T00:00:00.000000000",
          "2034-11-15T00:00:00.000000000",
          "2035-02-15T00:00:00.000000000",
          "2035-05-15T00:00:00.000000000"
         ],
         "y": {
          "bdata": "CMPKsnEOpj9akByff3GlP3a9ftKaMKU/1JuTDyg4pD93f2GeOvujP8K5jopiZqM/vt6ax6NMoz/vT05Z8h2jPxxF9ygzEKM/bRLNTeX+oj+a0htq6xKjP3G9Gl4YAqM/xQj6bmcdoz+IvS+yjQ2jPw0+xVhDNaM/m5QfRHQAoz+rYqbE4CejP7qVLasTRKM/ba6zhCmIoz+sSs+y9pCjPzj5iPPLu6M/dH/UqoaSoz/4qzqK9wykP/NoNtHfMqQ/z9ewzzFapD+fu9GFYG6kP/vPuy1ojKQ/+FiwQ+uXpD+lUVgUPKakPwB8x1t006Q/tNI5eXD7pD9lXCfkORGlP9iFODnwKKU/JhZ8wxJJpT+OmeGSJWulP8/X6nq7iKU/lhCDK2alpT9hQMRAtrClP6ZGQyFdx6U/",
          "dtype": "f8"
         }
        },
        {
         "marker": {
          "size": 6
         },
         "mode": "markers",
         "name": "20-Year",
         "type": "scatter",
         "x": [
          "2040-05-15T00:00:00.000000000",
          "2040-08-15T00:00:00.000000000",
          "2040-11-15T00:00:00.000000000",
          "2041-02-15T00:00:00.000000000",
          "2041-05-15T00:00:00.000000000",
          "2041-08-15T00:00:00.000000000",
          "2041-11-15T00:00:00.000000000",
          "2042-02-15T00:00:00.000000000",
          "2042-05-15T00:00:00.000000000",
          "2042-08-15T00:00:00.000000000",
          "2042-11-15T00:00:00.000000000",
          "2043-02-15T00:00:00.000000000",
          "2043-05-15T00:00:00.000000000",
          "2043-08-15T00:00:00.000000000",
          "2043-11-15T00:00:00.000000000",
          "2044-02-15T00:00:00.000000000",
          "2044-05-15T00:00:00.000000000",
          "2044-08-15T00:00:00.000000000",
          "2044-11-15T00:00:00.000000000",
          "2045-02-15T00:00:00.000000000",
          "2045-05-15T00:00:00.000000000"
         ],
         "y": {
          "bdata": "/zZyemo3qD+IGKcIDVCoP0C/EO6lW6g/Cm5a33ZXqD9EU3b6QV2oP7LKlvYXi6g/4/nzCpeXqD9PoxwOQ5KoP65+8MrDfKg/d9aPybl/qD803NuIgnSoP+/IeXvngqg/lnQYvH2QqD+anm6oMYSoP2oWwzC7gqg/DJd25vWSqD8/a8iJwKKoP3uwOcWysqg/v/Mo6DivqD8IAscSlKqoP6rrFqK/p6g/",
          "dtype": "f8"
         }
        },
        {
         "marker": {
          "size": 6
         },
         "mode": "markers",
         "name": "30-Year",
         "type": "scatter",
         "x": [
          "2026-02-15T00:00:00.000000000",
          "2026-08-15T00:00:00.000000000",
          "2026-11-15T00:00:00.000000000",
          "2027-02-15T00:00:00.000000000",
          "2027-08-15T00:00:00.000000000",
          "2027-11-15T00:00:00.000000000",
          "2028-08-15T00:00:00.000000000",
          "2028-11-15T00:00:00.000000000",
          "2029-02-15T00:00:00.000000000",
          "2029-08-15T00:00:00.000000000",
          "2031-02-15T00:00:00.000000000",
          "2036-02-15T00:00:00.000000000",
          "2037-02-15T00:00:00.000000000",
          "2038-02-15T00:00:00.000000000",
          "2039-02-15T00:00:00.000000000",
          "2039-05-15T00:00:00.000000000",
          "2039-08-15T00:00:00.000000000",
          "2039-11-15T00:00:00.000000000",
          "2040-02-15T00:00:00.000000000",
          "2040-05-15T00:00:00.000000000",
          "2040-08-15T00:00:00.000000000",
          "2040-11-15T00:00:00.000000000",
          "2041-02-15T00:00:00.000000000",
          "2041-05-15T00:00:00.000000000",
          "2041-08-15T00:00:00.000000000",
          "2041-11-15T00:00:00.000000000",
          "2042-02-15T00:00:00.000000000",
          "2042-05-15T00:00:00.000000000",
          "2042-08-15T00:00:00.000000000",
          "2042-11-15T00:00:00.000000000",
          "2043-02-15T00:00:00.000000000",
          "2043-05-15T00:00:00.000000000",
          "2043-08-15T00:00:00.000000000",
          "2043-11-15T00:00:00.000000000",
          "2044-02-15T00:00:00.000000000",
          "2044-05-15T00:00:00.000000000",
          "2044-08-15T00:00:00.000000000",
          "2044-11-15T00:00:00.000000000",
          "2045-02-15T00:00:00.000000000",
          "2045-05-15T00:00:00.000000000",
          "2045-08-15T00:00:00.000000000",
          "2045-11-15T00:00:00.000000000",
          "2046-02-15T00:00:00.000000000",
          "2046-05-15T00:00:00.000000000",
          "2046-08-15T00:00:00.000000000",
          "2046-11-15T00:00:00.000000000",
          "2047-02-15T00:00:00.000000000",
          "2047-05-15T00:00:00.000000000",
          "2047-08-15T00:00:00.000000000",
          "2047-11-15T00:00:00.000000000",
          "2048-02-15T00:00:00.000000000",
          "2048-05-15T00:00:00.000000000",
          "2048-08-15T00:00:00.000000000",
          "2048-11-15T00:00:00.000000000",
          "2049-02-15T00:00:00.000000000",
          "2049-05-15T00:00:00.000000000",
          "2049-08-15T00:00:00.000000000",
          "2049-11-15T00:00:00.000000000",
          "2050-02-15T00:00:00.000000000",
          "2050-05-15T00:00:00.000000000",
          "2050-08-15T00:00:00.000000000",
          "2050-11-15T00:00:00.000000000",
          "2051-02-15T00:00:00.000000000",
          "2051-05-15T00:00:00.000000000",
          "2051-08-15T00:00:00.000000000",
          "2051-11-15T00:00:00.000000000",
          "2052-02-15T00:00:00.000000000",
          "2052-05-15T00:00:00.000000000",
          "2052-08-15T00:00:00.000000000",
          "2052-11-15T00:00:00.000000000",
          "2053-02-15T00:00:00.000000000",
          "2053-05-15T00:00:00.000000000",
          "2053-08-15T00:00:00.000000000",
          "2053-11-15T00:00:00.000000000",
          "2054-02-15T00:00:00.000000000",
          "2054-05-15T00:00:00.000000000",
          "2054-08-15T00:00:00.000000000",
          "2054-11-15T00:00:00.000000000",
          "2055-02-15T00:00:00.000000000",
          "2055-05-15T00:00:00.000000000"
         ],
         "y": {
          "bdata": "mv70uNLfpT+btS0tl0ukP22OEHG1RqM/JsKGp1fKoj884QQqDF+jP5/OLkIlbKM/Vgqiasvroj8FHcYH6lKjP5Y0sYas6qI/mlNVqjxooz93EjIML/OjPwg9m1Wfq6U/SaUzi6slpj8piy3KjZ6mP1YD/yEeBac/DtakgFlGpz+TAPOYmmenP5dLT/0oj6c/rgnMt/yPpz/9xSI8kKunP9ufD78w06c/fwc3ALjlpz+sPnhpmuKnP0C9+CZ2Aqg/7PBjDnodqD9loLY2IlKoP709Y7prZKg/gGBUczWJqD/0FDlE3JyoP8R8WPMMr6g/b2Q/B22kqD/yGokKtL+oP3ErUpsXq6g/hJGoYQm1qD/u5eN/l76oP1/gqMsY1ag/qX4pLIblqD/psGd0rPeoP5PN0bp4Bak/9u7yIWb+qD9DBH9sUAOpP0rIrIMoBKk/toxQQ4YbqT9SwXZqDSmpP+rLFGufK6k/8gjy3BAdqT/jZwo6rR2pP5oIG55eKak/AeYxNc8yqT/j34hqITOpP9eNTsiUMKk/TtNG+XI0qT+vJPV1SzipP88Aaqz1LKk/PewqSUMyqT9MhJn4mzepPykGaUJqRak/Xx4ZSKNEqT8/NDUBbUipP/tFAYnDJak/SqiNqFhOqT/jf34h3EupPy1+8C3uN6k/2jIquj8oqT+f55E3py+pPyWhHQXCLak/gGDxSHogqT/MmOVfiQ+pP0mfufvaAqk/lu/4euflqD/mLvROJuqoP8DrVHVm7ag/+OvCzbHVqD9Ft6DvVcioPyGPnir40Kg/ILGjkrbIqD8xnv8mLb+oPzt9sbXGuag/AOIRiQCvqD+PGhNiLqmoPw==",
          "dtype": "f8"
         }
        }
       ],
       "layout": {
        "height": 600,
        "legend": {
         "title": {
          "text": "Security Tenors"
         }
        },
        "margin": {
         "b": 20,
         "l": 20,
         "r": 20,
         "t": 50
        },
        "template": {
         "data": {
          "bar": [
           {
            "error_x": {
             "color": "#f2f5fa"
            },
            "error_y": {
             "color": "#f2f5fa"
            },
            "marker": {
             "line": {
              "color": "rgb(17,17,17)",
              "width": 0.5
             },
             "pattern": {
              "fillmode": "overlay",
              "size": 10,
              "solidity": 0.2
             }
            },
            "type": "bar"
           }
          ],
          "barpolar": [
           {
            "marker": {
             "line": {
              "color": "rgb(17,17,17)",
              "width": 0.5
             },
             "pattern": {
              "fillmode": "overlay",
              "size": 10,
              "solidity": 0.2
             }
            },
            "type": "barpolar"
           }
          ],
          "carpet": [
           {
            "aaxis": {
             "endlinecolor": "#A2B1C6",
             "gridcolor": "#506784",
             "linecolor": "#506784",
             "minorgridcolor": "#506784",
             "startlinecolor": "#A2B1C6"
            },
            "baxis": {
             "endlinecolor": "#A2B1C6",
             "gridcolor": "#506784",
             "linecolor": "#506784",
             "minorgridcolor": "#506784",
             "startlinecolor": "#A2B1C6"
            },
            "type": "carpet"
           }
          ],
          "choropleth": [
           {
            "colorbar": {
             "outlinewidth": 0,
             "ticks": ""
            },
            "type": "choropleth"
           }
          ],
          "contour": [
           {
            "colorbar": {
             "outlinewidth": 0,
             "ticks": ""
            },
            "colorscale": [
             [
              0,
              "#0d0887"
             ],
             [
              0.1111111111111111,
              "#46039f"
             ],
             [
              0.2222222222222222,
              "#7201a8"
             ],
             [
              0.3333333333333333,
              "#9c179e"
             ],
             [
              0.4444444444444444,
              "#bd3786"
             ],
             [
              0.5555555555555556,
              "#d8576b"
             ],
             [
              0.6666666666666666,
              "#ed7953"
             ],
             [
              0.7777777777777778,
              "#fb9f3a"
             ],
             [
              0.8888888888888888,
              "#fdca26"
             ],
             [
              1,
              "#f0f921"
             ]
            ],
            "type": "contour"
           }
          ],
          "contourcarpet": [
           {
            "colorbar": {
             "outlinewidth": 0,
             "ticks": ""
            },
            "type": "contourcarpet"
           }
          ],
          "heatmap": [
           {
            "colorbar": {
             "outlinewidth": 0,
             "ticks": ""
            },
            "colorscale": [
             [
              0,
              "#0d0887"
             ],
             [
              0.1111111111111111,
              "#46039f"
             ],
             [
              0.2222222222222222,
              "#7201a8"
             ],
             [
              0.3333333333333333,
              "#9c179e"
             ],
             [
              0.4444444444444444,
              "#bd3786"
             ],
             [
              0.5555555555555556,
              "#d8576b"
             ],
             [
              0.6666666666666666,
              "#ed7953"
             ],
             [
              0.7777777777777778,
              "#fb9f3a"
             ],
             [
              0.8888888888888888,
              "#fdca26"
             ],
             [
              1,
              "#f0f921"
             ]
            ],
            "type": "heatmap"
           }
          ],
          "histogram": [
           {
            "marker": {
             "pattern": {
              "fillmode": "overlay",
              "size": 10,
              "solidity": 0.2
             }
            },
            "type": "histogram"
           }
          ],
          "histogram2d": [
           {
            "colorbar": {
             "outlinewidth": 0,
             "ticks": ""
            },
            "colorscale": [
             [
              0,
              "#0d0887"
             ],
             [
              0.1111111111111111,
              "#46039f"
             ],
             [
              0.2222222222222222,
              "#7201a8"
             ],
             [
              0.3333333333333333,
              "#9c179e"
             ],
             [
              0.4444444444444444,
              "#bd3786"
             ],
             [
              0.5555555555555556,
              "#d8576b"
             ],
             [
              0.6666666666666666,
              "#ed7953"
             ],
             [
              0.7777777777777778,
              "#fb9f3a"
             ],
             [
              0.8888888888888888,
              "#fdca26"
             ],
             [
              1,
              "#f0f921"
             ]
            ],
            "type": "histogram2d"
           }
          ],
          "histogram2dcontour": [
           {
            "colorbar": {
             "outlinewidth": 0,
             "ticks": ""
            },
            "colorscale": [
             [
              0,
              "#0d0887"
             ],
             [
              0.1111111111111111,
              "#46039f"
             ],
             [
              0.2222222222222222,
              "#7201a8"
             ],
             [
              0.3333333333333333,
              "#9c179e"
             ],
             [
              0.4444444444444444,
              "#bd3786"
             ],
             [
              0.5555555555555556,
              "#d8576b"
             ],
             [
              0.6666666666666666,
              "#ed7953"
             ],
             [
              0.7777777777777778,
              "#fb9f3a"
             ],
             [
              0.8888888888888888,
              "#fdca26"
             ],
             [
              1,
              "#f0f921"
             ]
            ],
            "type": "histogram2dcontour"
           }
          ],
          "mesh3d": [
           {
            "colorbar": {
             "outlinewidth": 0,
             "ticks": ""
            },
            "type": "mesh3d"
           }
          ],
          "parcoords": [
           {
            "line": {
             "colorbar": {
              "outlinewidth": 0,
              "ticks": ""
             }
            },
            "type": "parcoords"
           }
          ],
          "pie": [
           {
            "automargin": true,
            "type": "pie"
           }
          ],
          "scatter": [
           {
            "marker": {
             "line": {
              "color": "#283442"
             }
            },
            "type": "scatter"
           }
          ],
          "scatter3d": [
           {
            "line": {
             "colorbar": {
              "outlinewidth": 0,
              "ticks": ""
             }
            },
            "marker": {
             "colorbar": {
              "outlinewidth": 0,
              "ticks": ""
             }
            },
            "type": "scatter3d"
           }
          ],
          "scattercarpet": [
           {
            "marker": {
             "colorbar": {
              "outlinewidth": 0,
              "ticks": ""
             }
            },
            "type": "scattercarpet"
           }
          ],
          "scattergeo": [
           {
            "marker": {
             "colorbar": {
              "outlinewidth": 0,
              "ticks": ""
             }
            },
            "type": "scattergeo"
           }
          ],
          "scattergl": [
           {
            "marker": {
             "line": {
              "color": "#283442"
             }
            },
            "type": "scattergl"
           }
          ],
          "scattermap": [
           {
            "marker": {
             "colorbar": {
              "outlinewidth": 0,
              "ticks": ""
             }
            },
            "type": "scattermap"
           }
          ],
          "scattermapbox": [
           {
            "marker": {
             "colorbar": {
              "outlinewidth": 0,
              "ticks": ""
             }
            },
            "type": "scattermapbox"
           }
          ],
          "scatterpolar": [
           {
            "marker": {
             "colorbar": {
              "outlinewidth": 0,
              "ticks": ""
             }
            },
            "type": "scatterpolar"
           }
          ],
          "scatterpolargl": [
           {
            "marker": {
             "colorbar": {
              "outlinewidth": 0,
              "ticks": ""
             }
            },
            "type": "scatterpolargl"
           }
          ],
          "scatterternary": [
           {
            "marker": {
             "colorbar": {
              "outlinewidth": 0,
              "ticks": ""
             }
            },
            "type": "scatterternary"
           }
          ],
          "surface": [
           {
            "colorbar": {
             "outlinewidth": 0,
             "ticks": ""
            },
            "colorscale": [
             [
              0,
              "#0d0887"
             ],
             [
              0.1111111111111111,
              "#46039f"
             ],
             [
              0.2222222222222222,
              "#7201a8"
             ],
             [
              0.3333333333333333,
              "#9c179e"
             ],
             [
              0.4444444444444444,
              "#bd3786"
             ],
             [
              0.5555555555555556,
              "#d8576b"
             ],
             [
              0.6666666666666666,
              "#ed7953"
             ],
             [
              0.7777777777777778,
              "#fb9f3a"
             ],
             [
              0.8888888888888888,
              "#fdca26"
             ],
             [
              1,
              "#f0f921"
             ]
            ],
            "type": "surface"
           }
          ],
          "table": [
           {
            "cells": {
             "fill": {
              "color": "#506784"
             },
             "line": {
              "color": "rgb(17,17,17)"
             }
            },
            "header": {
             "fill": {
              "color": "#2a3f5f"
             },
             "line": {
              "color": "rgb(17,17,17)"
             }
            },
            "type": "table"
           }
          ]
         },
         "layout": {
          "annotationdefaults": {
           "arrowcolor": "#f2f5fa",
           "arrowhead": 0,
           "arrowwidth": 1
          },
          "autotypenumbers": "strict",
          "coloraxis": {
           "colorbar": {
            "outlinewidth": 0,
            "ticks": ""
           }
          },
          "colorscale": {
           "diverging": [
            [
             0,
             "#8e0152"
            ],
            [
             0.1,
             "#c51b7d"
            ],
            [
             0.2,
             "#de77ae"
            ],
            [
             0.3,
             "#f1b6da"
            ],
            [
             0.4,
             "#fde0ef"
            ],
            [
             0.5,
             "#f7f7f7"
            ],
            [
             0.6,
             "#e6f5d0"
            ],
            [
             0.7,
             "#b8e186"
            ],
            [
             0.8,
             "#7fbc41"
            ],
            [
             0.9,
             "#4d9221"
            ],
            [
             1,
             "#276419"
            ]
           ],
           "sequential": [
            [
             0,
             "#0d0887"
            ],
            [
             0.1111111111111111,
             "#46039f"
            ],
            [
             0.2222222222222222,
             "#7201a8"
            ],
            [
             0.3333333333333333,
             "#9c179e"
            ],
            [
             0.4444444444444444,
             "#bd3786"
            ],
            [
             0.5555555555555556,
             "#d8576b"
            ],
            [
             0.6666666666666666,
             "#ed7953"
            ],
            [
             0.7777777777777778,
             "#fb9f3a"
            ],
            [
             0.8888888888888888,
             "#fdca26"
            ],
            [
             1,
             "#f0f921"
            ]
           ],
           "sequentialminus": [
            [
             0,
             "#0d0887"
            ],
            [
             0.1111111111111111,
             "#46039f"
            ],
            [
             0.2222222222222222,
             "#7201a8"
            ],
            [
             0.3333333333333333,
             "#9c179e"
            ],
            [
             0.4444444444444444,
             "#bd3786"
            ],
            [
             0.5555555555555556,
             "#d8576b"
            ],
            [
             0.6666666666666666,
             "#ed7953"
            ],
            [
             0.7777777777777778,
             "#fb9f3a"
            ],
            [
             0.8888888888888888,
             "#fdca26"
            ],
            [
             1,
             "#f0f921"
            ]
           ]
          },
          "colorway": [
           "#636efa",
           "#EF553B",
           "#00cc96",
           "#ab63fa",
           "#FFA15A",
           "#19d3f3",
           "#FF6692",
           "#B6E880",
           "#FF97FF",
           "#FECB52"
          ],
          "font": {
           "color": "#f2f5fa"
          },
          "geo": {
           "bgcolor": "rgb(17,17,17)",
           "lakecolor": "rgb(17,17,17)",
           "landcolor": "rgb(17,17,17)",
           "showlakes": true,
           "showland": true,
           "subunitcolor": "#506784"
          },
          "hoverlabel": {
           "align": "left"
          },
          "hovermode": "closest",
          "mapbox": {
           "style": "dark"
          },
          "paper_bgcolor": "rgb(17,17,17)",
          "plot_bgcolor": "rgb(17,17,17)",
          "polar": {
           "angularaxis": {
            "gridcolor": "#506784",
            "linecolor": "#506784",
            "ticks": ""
           },
           "bgcolor": "rgb(17,17,17)",
           "radialaxis": {
            "gridcolor": "#506784",
            "linecolor": "#506784",
            "ticks": ""
           }
          },
          "scene": {
           "xaxis": {
            "backgroundcolor": "rgb(17,17,17)",
            "gridcolor": "#506784",
            "gridwidth": 2,
            "linecolor": "#506784",
            "showbackground": true,
            "ticks": "",
            "zerolinecolor": "#C8D4E3"
           },
           "yaxis": {
            "backgroundcolor": "rgb(17,17,17)",
            "gridcolor": "#506784",
            "gridwidth": 2,
            "linecolor": "#506784",
            "showbackground": true,
            "ticks": "",
            "zerolinecolor": "#C8D4E3"
           },
           "zaxis": {
            "backgroundcolor": "rgb(17,17,17)",
            "gridcolor": "#506784",
            "gridwidth": 2,
            "linecolor": "#506784",
            "showbackground": true,
            "ticks": "",
            "zerolinecolor": "#C8D4E3"
           }
          },
          "shapedefaults": {
           "line": {
            "color": "#f2f5fa"
           }
          },
          "sliderdefaults": {
           "bgcolor": "#C8D4E3",
           "bordercolor": "rgb(17,17,17)",
           "borderwidth": 1,
           "tickwidth": 0
          },
          "ternary": {
           "aaxis": {
            "gridcolor": "#506784",
            "linecolor": "#506784",
            "ticks": ""
           },
           "baxis": {
            "gridcolor": "#506784",
            "linecolor": "#506784",
            "ticks": ""
           },
           "bgcolor": "rgb(17,17,17)",
           "caxis": {
            "gridcolor": "#506784",
            "linecolor": "#506784",
            "ticks": ""
           }
          },
          "title": {
           "x": 0.05
          },
          "updatemenudefaults": {
           "bgcolor": "#506784",
           "borderwidth": 0
          },
          "xaxis": {
           "automargin": true,
           "gridcolor": "#283442",
           "linecolor": "#506784",
           "ticks": "",
           "title": {
            "standoff": 15
           },
           "zerolinecolor": "#283442",
           "zerolinewidth": 2
          },
          "yaxis": {
           "automargin": true,
           "gridcolor": "#283442",
           "linecolor": "#506784",
           "ticks": "",
           "title": {
            "standoff": 15
           },
           "zerolinecolor": "#283442",
           "zerolinewidth": 2
          }
         }
        },
        "title": {
         "text": "US Treasury Yield Curve (Days to Expiry > 90)"
        },
        "width": 1100,
        "xaxis": {
         "title": {
          "text": "Maturity Date"
         }
        },
        "yaxis": {
         "tickformat": ".2%",
         "title": {
          "text": "End-of-Day Yield to Maturity (YTM)"
         }
        }
       }
      }
     },
     "metadata": {},
     "output_type": "display_data"
    }
   ],
   "source": [
    "filtered_set = ust_set[(ust_set['Days to expiry'] > 90) & (ust_set['Security type'] != 'Bill')]\n",
    "years = ['2', '3', '5', '7', '10', '20', '30']\n",
    "terms = [tenor + '-Year' for tenor in years]\n",
    "fig = go.Figure()\n",
    "\n",
    "for tenor in terms:\n",
    "    subset = filtered_set[filtered_set['Original security term'] == tenor]\n",
    "    fig.add_trace(go.Scatter(\n",
    "        x=subset['Maturity date'],\n",
    "        y=subset['EOD YTM']/100,\n",
    "        mode='markers',\n",
    "        name=tenor,\n",
    "        marker=dict(\n",
    "            size=6\n",
    "        )\n",
    "    ))\n",
    "\n",
    "fig.update_layout(\n",
    "    title='US Treasury Yield Curve (Days to Expiry > 90)',\n",
    "    width=1100,\n",
    "    height=600,\n",
    "    margin=dict(l=20, r=20, t=50, b=20),\n",
    "    xaxis_title='Maturity Date',\n",
    "    yaxis_title='End-of-Day Yield to Maturity (YTM)',\n",
    "    yaxis_tickformat='.2%',\n",
    "    legend_title_text='Security Tenors',\n",
    "    template='plotly_dark'\n",
    ")\n",
    "\n",
    "# Display the plot\n",
    "fig.show()\n"
   ]
  }
 ],
 "metadata": {
  "kernelspec": {
   "display_name": "Python 3",
   "language": "python",
   "name": "python3"
  },
  "language_info": {
   "codemirror_mode": {
    "name": "ipython",
    "version": 3
   },
   "file_extension": ".py",
   "mimetype": "text/x-python",
   "name": "python",
   "nbconvert_exporter": "python",
   "pygments_lexer": "ipython3",
   "version": "3.12.1"
  }
 },
 "nbformat": 4,
 "nbformat_minor": 5
}
